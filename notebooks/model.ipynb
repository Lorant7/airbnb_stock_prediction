{
 "cells": [
  {
   "cell_type": "code",
   "execution_count": null,
   "metadata": {},
   "outputs": [
    {
     "data": {
      "text/plain": [
       "True"
      ]
     },
     "execution_count": 77,
     "metadata": {},
     "output_type": "execute_result"
    }
   ],
   "source": [
    "import torch\n",
    "import matplotlib.pyplot as plt\n",
    "import pandas as pd\n",
    "import numpy as np\n",
    "from torch.utils.data import DataLoader, Dataset\n",
    "from torch import nn\n",
    "\n",
    "from sklearn.preprocessing import StandardScaler\n",
    "\n",
    "import lightning as L\n",
    "from lightning.pytorch.loggers import WandbLogger\n",
    "from pytorch_lightning import LightningModule, LightningDataModule\n",
    "\n",
    "from scipy import stats\n",
    "import os\n",
    "datadir = '../data/'\n",
    "csv_file = '24_11_29-ABNB_5y_history.csv'\n",
    "\n",
    "BATCH_SIZE=16\n",
    "\n",
    "\n",
    "# log into to wandb to log results\n",
    "import wandb\n",
    "wandb.login()"
   ]
  },
  {
   "cell_type": "markdown",
   "metadata": {},
   "source": [
    "Pip commands to download libraries to access the data set from hugging face"
   ]
  },
  {
   "cell_type": "code",
   "execution_count": 78,
   "metadata": {},
   "outputs": [
    {
     "name": "stdout",
     "output_type": "stream",
     "text": [
      "Requirement already satisfied: pytorch-lightning in c:\\users\\jtlor\\anaconda3\\envs\\basic_lr\\lib\\site-packages (2.4.0)\n",
      "Requirement already satisfied: torch>=2.1.0 in c:\\users\\jtlor\\anaconda3\\envs\\basic_lr\\lib\\site-packages (from pytorch-lightning) (2.5.0)\n",
      "Requirement already satisfied: tqdm>=4.57.0 in c:\\users\\jtlor\\anaconda3\\envs\\basic_lr\\lib\\site-packages (from pytorch-lightning) (4.66.5)\n",
      "Requirement already satisfied: PyYAML>=5.4 in c:\\users\\jtlor\\anaconda3\\envs\\basic_lr\\lib\\site-packages (from pytorch-lightning) (6.0.2)\n",
      "Requirement already satisfied: fsspec>=2022.5.0 in c:\\users\\jtlor\\anaconda3\\envs\\basic_lr\\lib\\site-packages (from fsspec[http]>=2022.5.0->pytorch-lightning) (2024.10.0)\n",
      "Requirement already satisfied: torchmetrics>=0.7.0 in c:\\users\\jtlor\\anaconda3\\envs\\basic_lr\\lib\\site-packages (from pytorch-lightning) (1.6.0)\n",
      "Requirement already satisfied: packaging>=20.0 in c:\\users\\jtlor\\anaconda3\\envs\\basic_lr\\lib\\site-packages (from pytorch-lightning) (24.1)\n",
      "Requirement already satisfied: typing-extensions>=4.4.0 in c:\\users\\jtlor\\anaconda3\\envs\\basic_lr\\lib\\site-packages (from pytorch-lightning) (4.12.2)\n",
      "Requirement already satisfied: lightning-utilities>=0.10.0 in c:\\users\\jtlor\\anaconda3\\envs\\basic_lr\\lib\\site-packages (from pytorch-lightning) (0.11.8)\n",
      "Requirement already satisfied: aiohttp!=4.0.0a0,!=4.0.0a1 in c:\\users\\jtlor\\anaconda3\\envs\\basic_lr\\lib\\site-packages (from fsspec[http]>=2022.5.0->pytorch-lightning) (3.11.2)\n",
      "Requirement already satisfied: setuptools in c:\\users\\jtlor\\anaconda3\\envs\\basic_lr\\lib\\site-packages (from lightning-utilities>=0.10.0->pytorch-lightning) (75.1.0)\n",
      "Requirement already satisfied: filelock in c:\\users\\jtlor\\anaconda3\\envs\\basic_lr\\lib\\site-packages (from torch>=2.1.0->pytorch-lightning) (3.13.1)\n",
      "Requirement already satisfied: sympy==1.13.1 in c:\\users\\jtlor\\anaconda3\\envs\\basic_lr\\lib\\site-packages (from torch>=2.1.0->pytorch-lightning) (1.13.1)\n",
      "Requirement already satisfied: networkx in c:\\users\\jtlor\\anaconda3\\envs\\basic_lr\\lib\\site-packages (from torch>=2.1.0->pytorch-lightning) (3.2.1)\n",
      "Requirement already satisfied: jinja2 in c:\\users\\jtlor\\anaconda3\\envs\\basic_lr\\lib\\site-packages (from torch>=2.1.0->pytorch-lightning) (3.1.4)\n",
      "Requirement already satisfied: mpmath<1.4,>=1.1.0 in c:\\users\\jtlor\\anaconda3\\envs\\basic_lr\\lib\\site-packages (from sympy==1.13.1->torch>=2.1.0->pytorch-lightning) (1.3.0)\n",
      "Requirement already satisfied: numpy>1.20.0 in c:\\users\\jtlor\\anaconda3\\envs\\basic_lr\\lib\\site-packages (from torchmetrics>=0.7.0->pytorch-lightning) (1.26.4)\n",
      "Requirement already satisfied: colorama in c:\\users\\jtlor\\anaconda3\\envs\\basic_lr\\lib\\site-packages (from tqdm>=4.57.0->pytorch-lightning) (0.4.6)\n",
      "Requirement already satisfied: aiohappyeyeballs>=2.3.0 in c:\\users\\jtlor\\anaconda3\\envs\\basic_lr\\lib\\site-packages (from aiohttp!=4.0.0a0,!=4.0.0a1->fsspec[http]>=2022.5.0->pytorch-lightning) (2.4.3)\n",
      "Requirement already satisfied: aiosignal>=1.1.2 in c:\\users\\jtlor\\anaconda3\\envs\\basic_lr\\lib\\site-packages (from aiohttp!=4.0.0a0,!=4.0.0a1->fsspec[http]>=2022.5.0->pytorch-lightning) (1.3.1)\n",
      "Requirement already satisfied: attrs>=17.3.0 in c:\\users\\jtlor\\anaconda3\\envs\\basic_lr\\lib\\site-packages (from aiohttp!=4.0.0a0,!=4.0.0a1->fsspec[http]>=2022.5.0->pytorch-lightning) (24.2.0)\n",
      "Requirement already satisfied: frozenlist>=1.1.1 in c:\\users\\jtlor\\anaconda3\\envs\\basic_lr\\lib\\site-packages (from aiohttp!=4.0.0a0,!=4.0.0a1->fsspec[http]>=2022.5.0->pytorch-lightning) (1.5.0)\n",
      "Requirement already satisfied: multidict<7.0,>=4.5 in c:\\users\\jtlor\\anaconda3\\envs\\basic_lr\\lib\\site-packages (from aiohttp!=4.0.0a0,!=4.0.0a1->fsspec[http]>=2022.5.0->pytorch-lightning) (6.1.0)\n",
      "Requirement already satisfied: propcache>=0.2.0 in c:\\users\\jtlor\\anaconda3\\envs\\basic_lr\\lib\\site-packages (from aiohttp!=4.0.0a0,!=4.0.0a1->fsspec[http]>=2022.5.0->pytorch-lightning) (0.2.0)\n",
      "Requirement already satisfied: yarl<2.0,>=1.17.0 in c:\\users\\jtlor\\anaconda3\\envs\\basic_lr\\lib\\site-packages (from aiohttp!=4.0.0a0,!=4.0.0a1->fsspec[http]>=2022.5.0->pytorch-lightning) (1.17.1)\n",
      "Requirement already satisfied: MarkupSafe>=2.0 in c:\\users\\jtlor\\anaconda3\\envs\\basic_lr\\lib\\site-packages (from jinja2->torch>=2.1.0->pytorch-lightning) (2.1.3)\n",
      "Requirement already satisfied: idna>=2.0 in c:\\users\\jtlor\\anaconda3\\envs\\basic_lr\\lib\\site-packages (from yarl<2.0,>=1.17.0->aiohttp!=4.0.0a0,!=4.0.0a1->fsspec[http]>=2022.5.0->pytorch-lightning) (3.7)\n"
     ]
    }
   ],
   "source": [
    "!pip install pytorch-lightning"
   ]
  },
  {
   "cell_type": "code",
   "execution_count": 79,
   "metadata": {},
   "outputs": [
    {
     "name": "stdout",
     "output_type": "stream",
     "text": [
      "Requirement already satisfied: fsspec in c:\\users\\jtlor\\anaconda3\\envs\\basic_lr\\lib\\site-packages (2024.10.0)\n",
      "Requirement already satisfied: huggingface_hub in c:\\users\\jtlor\\anaconda3\\envs\\basic_lr\\lib\\site-packages (0.26.2)\n",
      "Requirement already satisfied: filelock in c:\\users\\jtlor\\anaconda3\\envs\\basic_lr\\lib\\site-packages (from huggingface_hub) (3.13.1)\n",
      "Requirement already satisfied: fsspec>=2023.5.0 in c:\\users\\jtlor\\anaconda3\\envs\\basic_lr\\lib\\site-packages (from huggingface_hub) (2024.10.0)\n",
      "Requirement already satisfied: packaging>=20.9 in c:\\users\\jtlor\\anaconda3\\envs\\basic_lr\\lib\\site-packages (from huggingface_hub) (24.1)\n",
      "Requirement already satisfied: pyyaml>=5.1 in c:\\users\\jtlor\\anaconda3\\envs\\basic_lr\\lib\\site-packages (from huggingface_hub) (6.0.2)\n",
      "Requirement already satisfied: requests in c:\\users\\jtlor\\anaconda3\\envs\\basic_lr\\lib\\site-packages (from huggingface_hub) (2.32.3)\n",
      "Requirement already satisfied: tqdm>=4.42.1 in c:\\users\\jtlor\\anaconda3\\envs\\basic_lr\\lib\\site-packages (from huggingface_hub) (4.66.5)\n",
      "Requirement already satisfied: typing-extensions>=3.7.4.3 in c:\\users\\jtlor\\anaconda3\\envs\\basic_lr\\lib\\site-packages (from huggingface_hub) (4.12.2)\n",
      "Requirement already satisfied: colorama in c:\\users\\jtlor\\anaconda3\\envs\\basic_lr\\lib\\site-packages (from tqdm>=4.42.1->huggingface_hub) (0.4.6)\n",
      "Requirement already satisfied: charset-normalizer<4,>=2 in c:\\users\\jtlor\\anaconda3\\envs\\basic_lr\\lib\\site-packages (from requests->huggingface_hub) (3.3.2)\n",
      "Requirement already satisfied: idna<4,>=2.5 in c:\\users\\jtlor\\anaconda3\\envs\\basic_lr\\lib\\site-packages (from requests->huggingface_hub) (3.7)\n",
      "Requirement already satisfied: urllib3<3,>=1.21.1 in c:\\users\\jtlor\\anaconda3\\envs\\basic_lr\\lib\\site-packages (from requests->huggingface_hub) (2.2.3)\n",
      "Requirement already satisfied: certifi>=2017.4.17 in c:\\users\\jtlor\\anaconda3\\envs\\basic_lr\\lib\\site-packages (from requests->huggingface_hub) (2024.8.30)\n"
     ]
    }
   ],
   "source": [
    "!pip install fsspec\n",
    "!pip install huggingface_hub"
   ]
  },
  {
   "cell_type": "code",
   "execution_count": 80,
   "metadata": {},
   "outputs": [],
   "source": [
    "# df = pd.read_csv(\"hf://datasets/nateraw/airbnb-stock-price/airbnb-stock-price.zip\")\n",
    "df = pd.read_csv(\"../data/raw/24_11_29-ABNB_5y_history.csv\")"
   ]
  },
  {
   "cell_type": "code",
   "execution_count": 81,
   "metadata": {},
   "outputs": [
    {
     "data": {
      "text/html": [
       "<div>\n",
       "<style scoped>\n",
       "    .dataframe tbody tr th:only-of-type {\n",
       "        vertical-align: middle;\n",
       "    }\n",
       "\n",
       "    .dataframe tbody tr th {\n",
       "        vertical-align: top;\n",
       "    }\n",
       "\n",
       "    .dataframe thead th {\n",
       "        text-align: right;\n",
       "    }\n",
       "</style>\n",
       "<table border=\"1\" class=\"dataframe\">\n",
       "  <thead>\n",
       "    <tr style=\"text-align: right;\">\n",
       "      <th></th>\n",
       "      <th>Date</th>\n",
       "      <th>Open</th>\n",
       "      <th>High</th>\n",
       "      <th>Low</th>\n",
       "      <th>Close</th>\n",
       "      <th>Volume</th>\n",
       "      <th>Dividends</th>\n",
       "      <th>Stock Splits</th>\n",
       "    </tr>\n",
       "  </thead>\n",
       "  <tbody>\n",
       "    <tr>\n",
       "      <th>0</th>\n",
       "      <td>2020-12-10 00:00:00-05:00</td>\n",
       "      <td>146.000000</td>\n",
       "      <td>165.000000</td>\n",
       "      <td>141.250000</td>\n",
       "      <td>144.710007</td>\n",
       "      <td>70447500</td>\n",
       "      <td>0.0</td>\n",
       "      <td>0.0</td>\n",
       "    </tr>\n",
       "    <tr>\n",
       "      <th>1</th>\n",
       "      <td>2020-12-11 00:00:00-05:00</td>\n",
       "      <td>146.550003</td>\n",
       "      <td>151.500000</td>\n",
       "      <td>135.100006</td>\n",
       "      <td>139.250000</td>\n",
       "      <td>26980800</td>\n",
       "      <td>0.0</td>\n",
       "      <td>0.0</td>\n",
       "    </tr>\n",
       "    <tr>\n",
       "      <th>2</th>\n",
       "      <td>2020-12-14 00:00:00-05:00</td>\n",
       "      <td>135.000000</td>\n",
       "      <td>135.300003</td>\n",
       "      <td>125.160004</td>\n",
       "      <td>130.000000</td>\n",
       "      <td>16966100</td>\n",
       "      <td>0.0</td>\n",
       "      <td>0.0</td>\n",
       "    </tr>\n",
       "    <tr>\n",
       "      <th>3</th>\n",
       "      <td>2020-12-15 00:00:00-05:00</td>\n",
       "      <td>126.690002</td>\n",
       "      <td>127.599998</td>\n",
       "      <td>121.500000</td>\n",
       "      <td>124.800003</td>\n",
       "      <td>10914400</td>\n",
       "      <td>0.0</td>\n",
       "      <td>0.0</td>\n",
       "    </tr>\n",
       "    <tr>\n",
       "      <th>4</th>\n",
       "      <td>2020-12-16 00:00:00-05:00</td>\n",
       "      <td>125.830002</td>\n",
       "      <td>142.000000</td>\n",
       "      <td>124.910004</td>\n",
       "      <td>137.990005</td>\n",
       "      <td>20409600</td>\n",
       "      <td>0.0</td>\n",
       "      <td>0.0</td>\n",
       "    </tr>\n",
       "  </tbody>\n",
       "</table>\n",
       "</div>"
      ],
      "text/plain": [
       "                        Date        Open        High         Low       Close  \\\n",
       "0  2020-12-10 00:00:00-05:00  146.000000  165.000000  141.250000  144.710007   \n",
       "1  2020-12-11 00:00:00-05:00  146.550003  151.500000  135.100006  139.250000   \n",
       "2  2020-12-14 00:00:00-05:00  135.000000  135.300003  125.160004  130.000000   \n",
       "3  2020-12-15 00:00:00-05:00  126.690002  127.599998  121.500000  124.800003   \n",
       "4  2020-12-16 00:00:00-05:00  125.830002  142.000000  124.910004  137.990005   \n",
       "\n",
       "     Volume  Dividends  Stock Splits  \n",
       "0  70447500        0.0           0.0  \n",
       "1  26980800        0.0           0.0  \n",
       "2  16966100        0.0           0.0  \n",
       "3  10914400        0.0           0.0  \n",
       "4  20409600        0.0           0.0  "
      ]
     },
     "execution_count": 81,
     "metadata": {},
     "output_type": "execute_result"
    }
   ],
   "source": [
    "df.head()"
   ]
  },
  {
   "cell_type": "markdown",
   "metadata": {},
   "source": [
    "One problem I see is the format of the date. I need it to have a numerical value so that the model can understand it. After doing some research, I found that one way to do it is separating the date into three different features: day, month, and year.<br><br>\n",
    "\n",
    "Then, I realized that simply splitting the date into three features lacks the key relationship of January being as close to December as June is to July, because it would interpret them as 0 and 11 being far apart and 5 and 6 as being close. A solution to this is applying the sine and cosine transformations to the days and moths to maintain the cyclic relationship property they have. "
   ]
  },
  {
   "cell_type": "code",
   "execution_count": 82,
   "metadata": {},
   "outputs": [
    {
     "name": "stdout",
     "output_type": "stream",
     "text": [
      "(999,)\n",
      "                        Date        Open        High         Low       Close  \\\n",
      "0  2020-12-10 00:00:00-05:00  146.000000  165.000000  141.250000  144.710007   \n",
      "1  2020-12-11 00:00:00-05:00  146.550003  151.500000  135.100006  139.250000   \n",
      "2  2020-12-14 00:00:00-05:00  135.000000  135.300003  125.160004  130.000000   \n",
      "3  2020-12-15 00:00:00-05:00  126.690002  127.599998  121.500000  124.800003   \n",
      "4  2020-12-16 00:00:00-05:00  125.830002  142.000000  124.910004  137.990005   \n",
      "\n",
      "     Volume  Dividends  Stock Splits  \n",
      "0  70447500        0.0           0.0  \n",
      "1  26980800        0.0           0.0  \n",
      "2  16966100        0.0           0.0  \n",
      "3  10914400        0.0           0.0  \n",
      "4  20409600        0.0           0.0  \n"
     ]
    },
    {
     "data": {
      "text/plain": [
       "0   2020-12-10 05:00:00+00:00\n",
       "1   2020-12-11 05:00:00+00:00\n",
       "2   2020-12-14 05:00:00+00:00\n",
       "3   2020-12-15 05:00:00+00:00\n",
       "4   2020-12-16 05:00:00+00:00\n",
       "Name: Date, dtype: datetime64[ns, UTC]"
      ]
     },
     "execution_count": 82,
     "metadata": {},
     "output_type": "execute_result"
    }
   ],
   "source": [
    "type(df['Date'][0])\n",
    "\n",
    "pattern = r\"^\\d{2}/\\d{2}/\\d{2}$\"\n",
    "\n",
    "invalid_dates = df['Date'][~df['Date'].str.match(pattern, na=False)]\n",
    "\n",
    "# contains_slash = df['Date'][df['Date'].str.contains('-')]\n",
    "print(invalid_dates.shape)\n",
    "invalid_dates\n",
    "print(df.head())\n",
    "# test = pd.to_datetime(df['Date'], format='%m/%d/%y')\n",
    "test = pd.to_datetime(df['Date'], utc=True)\n",
    "test.head()"
   ]
  },
  {
   "cell_type": "code",
   "execution_count": 83,
   "metadata": {},
   "outputs": [
    {
     "name": "stdout",
     "output_type": "stream",
     "text": [
      "<class 'pandas._libs.tslibs.timestamps.Timestamp'>\n",
      "                       Date        Open        High         Low       Close  \\\n",
      "0 2020-12-10 05:00:00+00:00  146.000000  165.000000  141.250000  144.710007   \n",
      "1 2020-12-11 05:00:00+00:00  146.550003  151.500000  135.100006  139.250000   \n",
      "2 2020-12-14 05:00:00+00:00  135.000000  135.300003  125.160004  130.000000   \n",
      "3 2020-12-15 05:00:00+00:00  126.690002  127.599998  121.500000  124.800003   \n",
      "4 2020-12-16 05:00:00+00:00  125.830002  142.000000  124.910004  137.990005   \n",
      "\n",
      "     Volume  Dividends  Stock Splits  \n",
      "0  70447500        0.0           0.0  \n",
      "1  26980800        0.0           0.0  \n",
      "2  16966100        0.0           0.0  \n",
      "3  10914400        0.0           0.0  \n",
      "4  20409600        0.0           0.0  \n"
     ]
    }
   ],
   "source": [
    "# df['Date'] = pd.to_datetime(df['Date'], format='%m/%d/%y')\n",
    "df['Date'] = pd.to_datetime(df['Date'], utc=True)\n",
    "print(type(df['Date'][0]))\n",
    "print(df.head())"
   ]
  },
  {
   "cell_type": "code",
   "execution_count": 84,
   "metadata": {},
   "outputs": [
    {
     "data": {
      "text/html": [
       "<div>\n",
       "<style scoped>\n",
       "    .dataframe tbody tr th:only-of-type {\n",
       "        vertical-align: middle;\n",
       "    }\n",
       "\n",
       "    .dataframe tbody tr th {\n",
       "        vertical-align: top;\n",
       "    }\n",
       "\n",
       "    .dataframe thead th {\n",
       "        text-align: right;\n",
       "    }\n",
       "</style>\n",
       "<table border=\"1\" class=\"dataframe\">\n",
       "  <thead>\n",
       "    <tr style=\"text-align: right;\">\n",
       "      <th></th>\n",
       "      <th>Date</th>\n",
       "      <th>Open</th>\n",
       "      <th>High</th>\n",
       "      <th>Low</th>\n",
       "      <th>Close</th>\n",
       "      <th>Volume</th>\n",
       "      <th>Dividends</th>\n",
       "      <th>Stock Splits</th>\n",
       "      <th>year</th>\n",
       "      <th>month</th>\n",
       "      <th>day</th>\n",
       "    </tr>\n",
       "  </thead>\n",
       "  <tbody>\n",
       "    <tr>\n",
       "      <th>0</th>\n",
       "      <td>2020-12-10 05:00:00+00:00</td>\n",
       "      <td>146.000000</td>\n",
       "      <td>165.000000</td>\n",
       "      <td>141.250000</td>\n",
       "      <td>144.710007</td>\n",
       "      <td>70447500</td>\n",
       "      <td>0.0</td>\n",
       "      <td>0.0</td>\n",
       "      <td>2020</td>\n",
       "      <td>12</td>\n",
       "      <td>10</td>\n",
       "    </tr>\n",
       "    <tr>\n",
       "      <th>1</th>\n",
       "      <td>2020-12-11 05:00:00+00:00</td>\n",
       "      <td>146.550003</td>\n",
       "      <td>151.500000</td>\n",
       "      <td>135.100006</td>\n",
       "      <td>139.250000</td>\n",
       "      <td>26980800</td>\n",
       "      <td>0.0</td>\n",
       "      <td>0.0</td>\n",
       "      <td>2020</td>\n",
       "      <td>12</td>\n",
       "      <td>11</td>\n",
       "    </tr>\n",
       "    <tr>\n",
       "      <th>2</th>\n",
       "      <td>2020-12-14 05:00:00+00:00</td>\n",
       "      <td>135.000000</td>\n",
       "      <td>135.300003</td>\n",
       "      <td>125.160004</td>\n",
       "      <td>130.000000</td>\n",
       "      <td>16966100</td>\n",
       "      <td>0.0</td>\n",
       "      <td>0.0</td>\n",
       "      <td>2020</td>\n",
       "      <td>12</td>\n",
       "      <td>14</td>\n",
       "    </tr>\n",
       "    <tr>\n",
       "      <th>3</th>\n",
       "      <td>2020-12-15 05:00:00+00:00</td>\n",
       "      <td>126.690002</td>\n",
       "      <td>127.599998</td>\n",
       "      <td>121.500000</td>\n",
       "      <td>124.800003</td>\n",
       "      <td>10914400</td>\n",
       "      <td>0.0</td>\n",
       "      <td>0.0</td>\n",
       "      <td>2020</td>\n",
       "      <td>12</td>\n",
       "      <td>15</td>\n",
       "    </tr>\n",
       "    <tr>\n",
       "      <th>4</th>\n",
       "      <td>2020-12-16 05:00:00+00:00</td>\n",
       "      <td>125.830002</td>\n",
       "      <td>142.000000</td>\n",
       "      <td>124.910004</td>\n",
       "      <td>137.990005</td>\n",
       "      <td>20409600</td>\n",
       "      <td>0.0</td>\n",
       "      <td>0.0</td>\n",
       "      <td>2020</td>\n",
       "      <td>12</td>\n",
       "      <td>16</td>\n",
       "    </tr>\n",
       "  </tbody>\n",
       "</table>\n",
       "</div>"
      ],
      "text/plain": [
       "                       Date        Open        High         Low       Close  \\\n",
       "0 2020-12-10 05:00:00+00:00  146.000000  165.000000  141.250000  144.710007   \n",
       "1 2020-12-11 05:00:00+00:00  146.550003  151.500000  135.100006  139.250000   \n",
       "2 2020-12-14 05:00:00+00:00  135.000000  135.300003  125.160004  130.000000   \n",
       "3 2020-12-15 05:00:00+00:00  126.690002  127.599998  121.500000  124.800003   \n",
       "4 2020-12-16 05:00:00+00:00  125.830002  142.000000  124.910004  137.990005   \n",
       "\n",
       "     Volume  Dividends  Stock Splits  year  month  day  \n",
       "0  70447500        0.0           0.0  2020     12   10  \n",
       "1  26980800        0.0           0.0  2020     12   11  \n",
       "2  16966100        0.0           0.0  2020     12   14  \n",
       "3  10914400        0.0           0.0  2020     12   15  \n",
       "4  20409600        0.0           0.0  2020     12   16  "
      ]
     },
     "execution_count": 84,
     "metadata": {},
     "output_type": "execute_result"
    }
   ],
   "source": [
    "df['year'] = df['Date'].dt.year\n",
    "df['month'] = df['Date'].dt.month\n",
    "df['day'] = df['Date'].dt.day\n",
    "\n",
    "df.head()"
   ]
  },
  {
   "cell_type": "code",
   "execution_count": 85,
   "metadata": {},
   "outputs": [
    {
     "data": {
      "text/html": [
       "<div>\n",
       "<style scoped>\n",
       "    .dataframe tbody tr th:only-of-type {\n",
       "        vertical-align: middle;\n",
       "    }\n",
       "\n",
       "    .dataframe tbody tr th {\n",
       "        vertical-align: top;\n",
       "    }\n",
       "\n",
       "    .dataframe thead th {\n",
       "        text-align: right;\n",
       "    }\n",
       "</style>\n",
       "<table border=\"1\" class=\"dataframe\">\n",
       "  <thead>\n",
       "    <tr style=\"text-align: right;\">\n",
       "      <th></th>\n",
       "      <th>Date</th>\n",
       "      <th>Open</th>\n",
       "      <th>High</th>\n",
       "      <th>Low</th>\n",
       "      <th>Close</th>\n",
       "      <th>Volume</th>\n",
       "      <th>Dividends</th>\n",
       "      <th>Stock Splits</th>\n",
       "      <th>year</th>\n",
       "      <th>month</th>\n",
       "      <th>day</th>\n",
       "      <th>month_sin</th>\n",
       "      <th>month_cos</th>\n",
       "      <th>day_sin</th>\n",
       "      <th>day_cos</th>\n",
       "    </tr>\n",
       "  </thead>\n",
       "  <tbody>\n",
       "    <tr>\n",
       "      <th>0</th>\n",
       "      <td>2020-12-10 05:00:00+00:00</td>\n",
       "      <td>146.000000</td>\n",
       "      <td>165.000000</td>\n",
       "      <td>141.250000</td>\n",
       "      <td>144.710007</td>\n",
       "      <td>70447500</td>\n",
       "      <td>0.0</td>\n",
       "      <td>0.0</td>\n",
       "      <td>2020</td>\n",
       "      <td>12</td>\n",
       "      <td>10</td>\n",
       "      <td>-2.449294e-16</td>\n",
       "      <td>1.0</td>\n",
       "      <td>4.338837e-01</td>\n",
       "      <td>-0.900969</td>\n",
       "    </tr>\n",
       "    <tr>\n",
       "      <th>1</th>\n",
       "      <td>2020-12-11 05:00:00+00:00</td>\n",
       "      <td>146.550003</td>\n",
       "      <td>151.500000</td>\n",
       "      <td>135.100006</td>\n",
       "      <td>139.250000</td>\n",
       "      <td>26980800</td>\n",
       "      <td>0.0</td>\n",
       "      <td>0.0</td>\n",
       "      <td>2020</td>\n",
       "      <td>12</td>\n",
       "      <td>11</td>\n",
       "      <td>-2.449294e-16</td>\n",
       "      <td>1.0</td>\n",
       "      <td>-4.338837e-01</td>\n",
       "      <td>-0.900969</td>\n",
       "    </tr>\n",
       "    <tr>\n",
       "      <th>2</th>\n",
       "      <td>2020-12-14 05:00:00+00:00</td>\n",
       "      <td>135.000000</td>\n",
       "      <td>135.300003</td>\n",
       "      <td>125.160004</td>\n",
       "      <td>130.000000</td>\n",
       "      <td>16966100</td>\n",
       "      <td>0.0</td>\n",
       "      <td>0.0</td>\n",
       "      <td>2020</td>\n",
       "      <td>12</td>\n",
       "      <td>14</td>\n",
       "      <td>-2.449294e-16</td>\n",
       "      <td>1.0</td>\n",
       "      <td>-4.898587e-16</td>\n",
       "      <td>1.000000</td>\n",
       "    </tr>\n",
       "    <tr>\n",
       "      <th>3</th>\n",
       "      <td>2020-12-15 05:00:00+00:00</td>\n",
       "      <td>126.690002</td>\n",
       "      <td>127.599998</td>\n",
       "      <td>121.500000</td>\n",
       "      <td>124.800003</td>\n",
       "      <td>10914400</td>\n",
       "      <td>0.0</td>\n",
       "      <td>0.0</td>\n",
       "      <td>2020</td>\n",
       "      <td>12</td>\n",
       "      <td>15</td>\n",
       "      <td>-2.449294e-16</td>\n",
       "      <td>1.0</td>\n",
       "      <td>7.818315e-01</td>\n",
       "      <td>0.623490</td>\n",
       "    </tr>\n",
       "    <tr>\n",
       "      <th>4</th>\n",
       "      <td>2020-12-16 05:00:00+00:00</td>\n",
       "      <td>125.830002</td>\n",
       "      <td>142.000000</td>\n",
       "      <td>124.910004</td>\n",
       "      <td>137.990005</td>\n",
       "      <td>20409600</td>\n",
       "      <td>0.0</td>\n",
       "      <td>0.0</td>\n",
       "      <td>2020</td>\n",
       "      <td>12</td>\n",
       "      <td>16</td>\n",
       "      <td>-2.449294e-16</td>\n",
       "      <td>1.0</td>\n",
       "      <td>9.749279e-01</td>\n",
       "      <td>-0.222521</td>\n",
       "    </tr>\n",
       "  </tbody>\n",
       "</table>\n",
       "</div>"
      ],
      "text/plain": [
       "                       Date        Open        High         Low       Close  \\\n",
       "0 2020-12-10 05:00:00+00:00  146.000000  165.000000  141.250000  144.710007   \n",
       "1 2020-12-11 05:00:00+00:00  146.550003  151.500000  135.100006  139.250000   \n",
       "2 2020-12-14 05:00:00+00:00  135.000000  135.300003  125.160004  130.000000   \n",
       "3 2020-12-15 05:00:00+00:00  126.690002  127.599998  121.500000  124.800003   \n",
       "4 2020-12-16 05:00:00+00:00  125.830002  142.000000  124.910004  137.990005   \n",
       "\n",
       "     Volume  Dividends  Stock Splits  year  month  day     month_sin  \\\n",
       "0  70447500        0.0           0.0  2020     12   10 -2.449294e-16   \n",
       "1  26980800        0.0           0.0  2020     12   11 -2.449294e-16   \n",
       "2  16966100        0.0           0.0  2020     12   14 -2.449294e-16   \n",
       "3  10914400        0.0           0.0  2020     12   15 -2.449294e-16   \n",
       "4  20409600        0.0           0.0  2020     12   16 -2.449294e-16   \n",
       "\n",
       "   month_cos       day_sin   day_cos  \n",
       "0        1.0  4.338837e-01 -0.900969  \n",
       "1        1.0 -4.338837e-01 -0.900969  \n",
       "2        1.0 -4.898587e-16  1.000000  \n",
       "3        1.0  7.818315e-01  0.623490  \n",
       "4        1.0  9.749279e-01 -0.222521  "
      ]
     },
     "execution_count": 85,
     "metadata": {},
     "output_type": "execute_result"
    }
   ],
   "source": [
    "df['month_sin'] = np.sin(2*np.pi*df['month']/12)\n",
    "df['month_cos'] = np.cos(2*np.pi*df['month']/12)\n",
    "\n",
    "df['day_sin'] = np.sin(2*np.pi*df['day']/7)\n",
    "df['day_cos'] = np.cos(2*np.pi*df['day']/7)\n",
    "\n",
    "df.head()"
   ]
  },
  {
   "cell_type": "code",
   "execution_count": 86,
   "metadata": {},
   "outputs": [
    {
     "data": {
      "text/plain": [
       "pandas._libs.tslibs.timestamps.Timestamp"
      ]
     },
     "execution_count": 86,
     "metadata": {},
     "output_type": "execute_result"
    }
   ],
   "source": [
    "type(df['Date'][0])"
   ]
  },
  {
   "cell_type": "code",
   "execution_count": 87,
   "metadata": {},
   "outputs": [],
   "source": [
    "import matplotlib.dates as mdates\n",
    "\n",
    "# plt.plot(df['Date'], df['Adj.Close'])\n",
    "# plt.xlabel('Date')\n",
    "# plt.ylabel('Adj.Close')\n",
    "\n",
    "# # Sets how often the dates should appear. (in this case it is every 30 days)\n",
    "# plt.gca().xaxis.set_major_locator(mdates.DayLocator(interval=30))\n",
    "# # Format how the dates should appear\n",
    "# plt.gca().xaxis.set_major_formatter(mdates.DateFormatter('%Y-%m-%d'))\n",
    "# # Rotate the date labels for better visibility\n",
    "# plt.xticks(rotation=45)\n",
    "\n",
    "# plt.show()"
   ]
  },
  {
   "cell_type": "code",
   "execution_count": 88,
   "metadata": {},
   "outputs": [
    {
     "data": {
      "image/png": "[encoded data removed]",
      "text/plain": [
       "<Figure size 640x480 with 1 Axes>"
      ]
     },
     "metadata": {},
     "output_type": "display_data"
    }
   ],
   "source": [
    "plt.plot(df['Date'], df['Volume'])\n",
    "plt.xlabel('Date')\n",
    "plt.ylabel('Volume')\n",
    "plt.gca().xaxis.set_major_locator(mdates.DayLocator(interval=60))\n",
    "plt.gca().xaxis.set_major_formatter(mdates.DateFormatter('%Y-%m-%d'))\n",
    "plt.xticks(rotation=45)\n",
    "plt.show()"
   ]
  },
  {
   "cell_type": "code",
   "execution_count": 89,
   "metadata": {},
   "outputs": [
    {
     "data": {
      "image/png": "[encoded data removed]",
      "text/plain": [
       "<Figure size 640x480 with 1 Axes>"
      ]
     },
     "metadata": {},
     "output_type": "display_data"
    }
   ],
   "source": [
    "plt.plot(df['Date'], df['Open'])\n",
    "plt.xlabel('Date')\n",
    "plt.ylabel('Open')\n",
    "plt.gca().xaxis.set_major_locator(mdates.DayLocator(interval=60))\n",
    "plt.gca().xaxis.set_major_formatter(mdates.DateFormatter('%Y-%m-%d'))\n",
    "plt.xticks(rotation=45)\n",
    "plt.show()"
   ]
  },
  {
   "cell_type": "code",
   "execution_count": 90,
   "metadata": {},
   "outputs": [
    {
     "data": {
      "image/png": "[encoded data removed]",
      "text/plain": [
       "<Figure size 640x480 with 1 Axes>"
      ]
     },
     "metadata": {},
     "output_type": "display_data"
    }
   ],
   "source": [
    "plt.plot(df['Date'], df['High'])\n",
    "plt.xlabel('Date')\n",
    "plt.ylabel('High')\n",
    "plt.gca().xaxis.set_major_locator(mdates.DayLocator(interval=60))\n",
    "plt.gca().xaxis.set_major_formatter(mdates.DateFormatter('%Y-%m-%d'))\n",
    "plt.xticks(rotation=45)\n",
    "plt.show()"
   ]
  },
  {
   "cell_type": "code",
   "execution_count": 91,
   "metadata": {},
   "outputs": [
    {
     "data": {
      "image/png": "[encoded data removed]",
      "text/plain": [
       "<Figure size 640x480 with 1 Axes>"
      ]
     },
     "metadata": {},
     "output_type": "display_data"
    }
   ],
   "source": [
    "plt.plot(df['Date'], df['Low'])\n",
    "plt.xlabel('Date')\n",
    "plt.ylabel('Low')\n",
    "plt.gca().xaxis.set_major_locator(mdates.DayLocator(interval=60))\n",
    "plt.gca().xaxis.set_major_formatter(mdates.DateFormatter('%Y-%m-%d'))\n",
    "plt.xticks(rotation=45)\n",
    "plt.show()"
   ]
  },
  {
   "cell_type": "code",
   "execution_count": 92,
   "metadata": {},
   "outputs": [
    {
     "name": "stdout",
     "output_type": "stream",
     "text": [
      "Requirement already satisfied: pytorch-lightning in c:\\users\\jtlor\\anaconda3\\envs\\basic_lr\\lib\\site-packages (2.4.0)\n",
      "Requirement already satisfied: torch>=2.1.0 in c:\\users\\jtlor\\anaconda3\\envs\\basic_lr\\lib\\site-packages (from pytorch-lightning) (2.5.0)\n",
      "Requirement already satisfied: tqdm>=4.57.0 in c:\\users\\jtlor\\anaconda3\\envs\\basic_lr\\lib\\site-packages (from pytorch-lightning) (4.66.5)\n",
      "Requirement already satisfied: PyYAML>=5.4 in c:\\users\\jtlor\\anaconda3\\envs\\basic_lr\\lib\\site-packages (from pytorch-lightning) (6.0.2)\n",
      "Requirement already satisfied: fsspec>=2022.5.0 in c:\\users\\jtlor\\anaconda3\\envs\\basic_lr\\lib\\site-packages (from fsspec[http]>=2022.5.0->pytorch-lightning) (2024.10.0)\n",
      "Requirement already satisfied: torchmetrics>=0.7.0 in c:\\users\\jtlor\\anaconda3\\envs\\basic_lr\\lib\\site-packages (from pytorch-lightning) (1.6.0)\n",
      "Requirement already satisfied: packaging>=20.0 in c:\\users\\jtlor\\anaconda3\\envs\\basic_lr\\lib\\site-packages (from pytorch-lightning) (24.1)\n",
      "Requirement already satisfied: typing-extensions>=4.4.0 in c:\\users\\jtlor\\anaconda3\\envs\\basic_lr\\lib\\site-packages (from pytorch-lightning) (4.12.2)\n",
      "Requirement already satisfied: lightning-utilities>=0.10.0 in c:\\users\\jtlor\\anaconda3\\envs\\basic_lr\\lib\\site-packages (from pytorch-lightning) (0.11.8)\n",
      "Requirement already satisfied: aiohttp!=4.0.0a0,!=4.0.0a1 in c:\\users\\jtlor\\anaconda3\\envs\\basic_lr\\lib\\site-packages (from fsspec[http]>=2022.5.0->pytorch-lightning) (3.11.2)\n",
      "Requirement already satisfied: setuptools in c:\\users\\jtlor\\anaconda3\\envs\\basic_lr\\lib\\site-packages (from lightning-utilities>=0.10.0->pytorch-lightning) (75.1.0)\n",
      "Requirement already satisfied: filelock in c:\\users\\jtlor\\anaconda3\\envs\\basic_lr\\lib\\site-packages (from torch>=2.1.0->pytorch-lightning) (3.13.1)\n",
      "Requirement already satisfied: sympy==1.13.1 in c:\\users\\jtlor\\anaconda3\\envs\\basic_lr\\lib\\site-packages (from torch>=2.1.0->pytorch-lightning) (1.13.1)\n",
      "Requirement already satisfied: networkx in c:\\users\\jtlor\\anaconda3\\envs\\basic_lr\\lib\\site-packages (from torch>=2.1.0->pytorch-lightning) (3.2.1)\n",
      "Requirement already satisfied: jinja2 in c:\\users\\jtlor\\anaconda3\\envs\\basic_lr\\lib\\site-packages (from torch>=2.1.0->pytorch-lightning) (3.1.4)\n",
      "Requirement already satisfied: mpmath<1.4,>=1.1.0 in c:\\users\\jtlor\\anaconda3\\envs\\basic_lr\\lib\\site-packages (from sympy==1.13.1->torch>=2.1.0->pytorch-lightning) (1.3.0)\n",
      "Requirement already satisfied: numpy>1.20.0 in c:\\users\\jtlor\\anaconda3\\envs\\basic_lr\\lib\\site-packages (from torchmetrics>=0.7.0->pytorch-lightning) (1.26.4)\n",
      "Requirement already satisfied: colorama in c:\\users\\jtlor\\anaconda3\\envs\\basic_lr\\lib\\site-packages (from tqdm>=4.57.0->pytorch-lightning) (0.4.6)\n",
      "Requirement already satisfied: aiohappyeyeballs>=2.3.0 in c:\\users\\jtlor\\anaconda3\\envs\\basic_lr\\lib\\site-packages (from aiohttp!=4.0.0a0,!=4.0.0a1->fsspec[http]>=2022.5.0->pytorch-lightning) (2.4.3)\n",
      "Requirement already satisfied: aiosignal>=1.1.2 in c:\\users\\jtlor\\anaconda3\\envs\\basic_lr\\lib\\site-packages (from aiohttp!=4.0.0a0,!=4.0.0a1->fsspec[http]>=2022.5.0->pytorch-lightning) (1.3.1)\n",
      "Requirement already satisfied: attrs>=17.3.0 in c:\\users\\jtlor\\anaconda3\\envs\\basic_lr\\lib\\site-packages (from aiohttp!=4.0.0a0,!=4.0.0a1->fsspec[http]>=2022.5.0->pytorch-lightning) (24.2.0)\n",
      "Requirement already satisfied: frozenlist>=1.1.1 in c:\\users\\jtlor\\anaconda3\\envs\\basic_lr\\lib\\site-packages (from aiohttp!=4.0.0a0,!=4.0.0a1->fsspec[http]>=2022.5.0->pytorch-lightning) (1.5.0)\n",
      "Requirement already satisfied: multidict<7.0,>=4.5 in c:\\users\\jtlor\\anaconda3\\envs\\basic_lr\\lib\\site-packages (from aiohttp!=4.0.0a0,!=4.0.0a1->fsspec[http]>=2022.5.0->pytorch-lightning) (6.1.0)\n",
      "Requirement already satisfied: propcache>=0.2.0 in c:\\users\\jtlor\\anaconda3\\envs\\basic_lr\\lib\\site-packages (from aiohttp!=4.0.0a0,!=4.0.0a1->fsspec[http]>=2022.5.0->pytorch-lightning) (0.2.0)\n",
      "Requirement already satisfied: yarl<2.0,>=1.17.0 in c:\\users\\jtlor\\anaconda3\\envs\\basic_lr\\lib\\site-packages (from aiohttp!=4.0.0a0,!=4.0.0a1->fsspec[http]>=2022.5.0->pytorch-lightning) (1.17.1)\n",
      "Requirement already satisfied: MarkupSafe>=2.0 in c:\\users\\jtlor\\anaconda3\\envs\\basic_lr\\lib\\site-packages (from jinja2->torch>=2.1.0->pytorch-lightning) (2.1.3)\n",
      "Requirement already satisfied: idna>=2.0 in c:\\users\\jtlor\\anaconda3\\envs\\basic_lr\\lib\\site-packages (from yarl<2.0,>=1.17.0->aiohttp!=4.0.0a0,!=4.0.0a1->fsspec[http]>=2022.5.0->pytorch-lightning) (3.7)\n"
     ]
    }
   ],
   "source": [
    "!pip install pytorch-lightning"
   ]
  },
  {
   "cell_type": "markdown",
   "metadata": {},
   "source": [
    "The value this model will be predicting the stock's price change. Which is calculated with the following formula:<br><br>\n",
    "\n",
    "$$ y = \\frac{\\text{Adj. Close}[t+1] - \\text{Adj. Close}[t]}{\\text{Adj. Close}[t]} $$"
   ]
  },
  {
   "cell_type": "code",
   "execution_count": 93,
   "metadata": {},
   "outputs": [
    {
     "data": {
      "text/html": [
       "<div>\n",
       "<style scoped>\n",
       "    .dataframe tbody tr th:only-of-type {\n",
       "        vertical-align: middle;\n",
       "    }\n",
       "\n",
       "    .dataframe tbody tr th {\n",
       "        vertical-align: top;\n",
       "    }\n",
       "\n",
       "    .dataframe thead th {\n",
       "        text-align: right;\n",
       "    }\n",
       "</style>\n",
       "<table border=\"1\" class=\"dataframe\">\n",
       "  <thead>\n",
       "    <tr style=\"text-align: right;\">\n",
       "      <th></th>\n",
       "      <th>Date</th>\n",
       "      <th>Open</th>\n",
       "      <th>High</th>\n",
       "      <th>Low</th>\n",
       "      <th>Close</th>\n",
       "      <th>Volume</th>\n",
       "      <th>Dividends</th>\n",
       "      <th>Stock Splits</th>\n",
       "      <th>year</th>\n",
       "      <th>month</th>\n",
       "      <th>day</th>\n",
       "      <th>month_sin</th>\n",
       "      <th>month_cos</th>\n",
       "      <th>day_sin</th>\n",
       "      <th>day_cos</th>\n",
       "      <th>price_change</th>\n",
       "    </tr>\n",
       "  </thead>\n",
       "  <tbody>\n",
       "    <tr>\n",
       "      <th>0</th>\n",
       "      <td>2020-12-10 05:00:00+00:00</td>\n",
       "      <td>146.000000</td>\n",
       "      <td>165.000000</td>\n",
       "      <td>141.250000</td>\n",
       "      <td>144.710007</td>\n",
       "      <td>70447500</td>\n",
       "      <td>0.0</td>\n",
       "      <td>0.0</td>\n",
       "      <td>2020</td>\n",
       "      <td>12</td>\n",
       "      <td>10</td>\n",
       "      <td>-2.449294e-16</td>\n",
       "      <td>1.0</td>\n",
       "      <td>4.338837e-01</td>\n",
       "      <td>-0.900969</td>\n",
       "      <td>-0.037731</td>\n",
       "    </tr>\n",
       "    <tr>\n",
       "      <th>1</th>\n",
       "      <td>2020-12-11 05:00:00+00:00</td>\n",
       "      <td>146.550003</td>\n",
       "      <td>151.500000</td>\n",
       "      <td>135.100006</td>\n",
       "      <td>139.250000</td>\n",
       "      <td>26980800</td>\n",
       "      <td>0.0</td>\n",
       "      <td>0.0</td>\n",
       "      <td>2020</td>\n",
       "      <td>12</td>\n",
       "      <td>11</td>\n",
       "      <td>-2.449294e-16</td>\n",
       "      <td>1.0</td>\n",
       "      <td>-4.338837e-01</td>\n",
       "      <td>-0.900969</td>\n",
       "      <td>-0.066427</td>\n",
       "    </tr>\n",
       "    <tr>\n",
       "      <th>2</th>\n",
       "      <td>2020-12-14 05:00:00+00:00</td>\n",
       "      <td>135.000000</td>\n",
       "      <td>135.300003</td>\n",
       "      <td>125.160004</td>\n",
       "      <td>130.000000</td>\n",
       "      <td>16966100</td>\n",
       "      <td>0.0</td>\n",
       "      <td>0.0</td>\n",
       "      <td>2020</td>\n",
       "      <td>12</td>\n",
       "      <td>14</td>\n",
       "      <td>-2.449294e-16</td>\n",
       "      <td>1.0</td>\n",
       "      <td>-4.898587e-16</td>\n",
       "      <td>1.000000</td>\n",
       "      <td>-0.040000</td>\n",
       "    </tr>\n",
       "    <tr>\n",
       "      <th>3</th>\n",
       "      <td>2020-12-15 05:00:00+00:00</td>\n",
       "      <td>126.690002</td>\n",
       "      <td>127.599998</td>\n",
       "      <td>121.500000</td>\n",
       "      <td>124.800003</td>\n",
       "      <td>10914400</td>\n",
       "      <td>0.0</td>\n",
       "      <td>0.0</td>\n",
       "      <td>2020</td>\n",
       "      <td>12</td>\n",
       "      <td>15</td>\n",
       "      <td>-2.449294e-16</td>\n",
       "      <td>1.0</td>\n",
       "      <td>7.818315e-01</td>\n",
       "      <td>0.623490</td>\n",
       "      <td>0.105689</td>\n",
       "    </tr>\n",
       "    <tr>\n",
       "      <th>4</th>\n",
       "      <td>2020-12-16 05:00:00+00:00</td>\n",
       "      <td>125.830002</td>\n",
       "      <td>142.000000</td>\n",
       "      <td>124.910004</td>\n",
       "      <td>137.990005</td>\n",
       "      <td>20409600</td>\n",
       "      <td>0.0</td>\n",
       "      <td>0.0</td>\n",
       "      <td>2020</td>\n",
       "      <td>12</td>\n",
       "      <td>16</td>\n",
       "      <td>-2.449294e-16</td>\n",
       "      <td>1.0</td>\n",
       "      <td>9.749279e-01</td>\n",
       "      <td>-0.222521</td>\n",
       "      <td>0.065657</td>\n",
       "    </tr>\n",
       "  </tbody>\n",
       "</table>\n",
       "</div>"
      ],
      "text/plain": [
       "                       Date        Open        High         Low       Close  \\\n",
       "0 2020-12-10 05:00:00+00:00  146.000000  165.000000  141.250000  144.710007   \n",
       "1 2020-12-11 05:00:00+00:00  146.550003  151.500000  135.100006  139.250000   \n",
       "2 2020-12-14 05:00:00+00:00  135.000000  135.300003  125.160004  130.000000   \n",
       "3 2020-12-15 05:00:00+00:00  126.690002  127.599998  121.500000  124.800003   \n",
       "4 2020-12-16 05:00:00+00:00  125.830002  142.000000  124.910004  137.990005   \n",
       "\n",
       "     Volume  Dividends  Stock Splits  year  month  day     month_sin  \\\n",
       "0  70447500        0.0           0.0  2020     12   10 -2.449294e-16   \n",
       "1  26980800        0.0           0.0  2020     12   11 -2.449294e-16   \n",
       "2  16966100        0.0           0.0  2020     12   14 -2.449294e-16   \n",
       "3  10914400        0.0           0.0  2020     12   15 -2.449294e-16   \n",
       "4  20409600        0.0           0.0  2020     12   16 -2.449294e-16   \n",
       "\n",
       "   month_cos       day_sin   day_cos  price_change  \n",
       "0        1.0  4.338837e-01 -0.900969     -0.037731  \n",
       "1        1.0 -4.338837e-01 -0.900969     -0.066427  \n",
       "2        1.0 -4.898587e-16  1.000000     -0.040000  \n",
       "3        1.0  7.818315e-01  0.623490      0.105689  \n",
       "4        1.0  9.749279e-01 -0.222521      0.065657  "
      ]
     },
     "execution_count": 93,
     "metadata": {},
     "output_type": "execute_result"
    }
   ],
   "source": [
    "# df['price_change'] = df['Adj.Close'].pct_change()\n",
    "# df['price_change'] = df['Close'].pct_change()\n",
    "df['price_change'] = (df['Close'].shift(-1) - df['Close']) / df['Close']\n",
    "df.head()"
   ]
  },
  {
   "cell_type": "code",
   "execution_count": 94,
   "metadata": {},
   "outputs": [
    {
     "data": {
      "text/plain": [
       "Date            0\n",
       "Open            0\n",
       "High            0\n",
       "Low             0\n",
       "Close           0\n",
       "Volume          0\n",
       "Dividends       0\n",
       "Stock Splits    0\n",
       "year            0\n",
       "month           0\n",
       "day             0\n",
       "month_sin       0\n",
       "month_cos       0\n",
       "day_sin         0\n",
       "day_cos         0\n",
       "price_change    1\n",
       "dtype: int64"
      ]
     },
     "execution_count": 94,
     "metadata": {},
     "output_type": "execute_result"
    }
   ],
   "source": [
    "nulls = df.isna().sum()\n",
    "nulls"
   ]
  },
  {
   "cell_type": "code",
   "execution_count": 95,
   "metadata": {},
   "outputs": [
    {
     "data": {
      "text/html": [
       "<div>\n",
       "<style scoped>\n",
       "    .dataframe tbody tr th:only-of-type {\n",
       "        vertical-align: middle;\n",
       "    }\n",
       "\n",
       "    .dataframe tbody tr th {\n",
       "        vertical-align: top;\n",
       "    }\n",
       "\n",
       "    .dataframe thead th {\n",
       "        text-align: right;\n",
       "    }\n",
       "</style>\n",
       "<table border=\"1\" class=\"dataframe\">\n",
       "  <thead>\n",
       "    <tr style=\"text-align: right;\">\n",
       "      <th></th>\n",
       "      <th>Date</th>\n",
       "      <th>Open</th>\n",
       "      <th>High</th>\n",
       "      <th>Low</th>\n",
       "      <th>Close</th>\n",
       "      <th>Volume</th>\n",
       "      <th>Dividends</th>\n",
       "      <th>Stock Splits</th>\n",
       "      <th>year</th>\n",
       "      <th>month</th>\n",
       "      <th>day</th>\n",
       "      <th>month_sin</th>\n",
       "      <th>month_cos</th>\n",
       "      <th>day_sin</th>\n",
       "      <th>day_cos</th>\n",
       "      <th>price_change</th>\n",
       "    </tr>\n",
       "  </thead>\n",
       "  <tbody>\n",
       "    <tr>\n",
       "      <th>0</th>\n",
       "      <td>2020-12-10 05:00:00+00:00</td>\n",
       "      <td>146.000000</td>\n",
       "      <td>165.000000</td>\n",
       "      <td>141.250000</td>\n",
       "      <td>144.710007</td>\n",
       "      <td>70447500</td>\n",
       "      <td>0.0</td>\n",
       "      <td>0.0</td>\n",
       "      <td>2020</td>\n",
       "      <td>12</td>\n",
       "      <td>10</td>\n",
       "      <td>-2.449294e-16</td>\n",
       "      <td>1.0</td>\n",
       "      <td>4.338837e-01</td>\n",
       "      <td>-0.900969</td>\n",
       "      <td>-0.037731</td>\n",
       "    </tr>\n",
       "    <tr>\n",
       "      <th>1</th>\n",
       "      <td>2020-12-11 05:00:00+00:00</td>\n",
       "      <td>146.550003</td>\n",
       "      <td>151.500000</td>\n",
       "      <td>135.100006</td>\n",
       "      <td>139.250000</td>\n",
       "      <td>26980800</td>\n",
       "      <td>0.0</td>\n",
       "      <td>0.0</td>\n",
       "      <td>2020</td>\n",
       "      <td>12</td>\n",
       "      <td>11</td>\n",
       "      <td>-2.449294e-16</td>\n",
       "      <td>1.0</td>\n",
       "      <td>-4.338837e-01</td>\n",
       "      <td>-0.900969</td>\n",
       "      <td>-0.066427</td>\n",
       "    </tr>\n",
       "    <tr>\n",
       "      <th>2</th>\n",
       "      <td>2020-12-14 05:00:00+00:00</td>\n",
       "      <td>135.000000</td>\n",
       "      <td>135.300003</td>\n",
       "      <td>125.160004</td>\n",
       "      <td>130.000000</td>\n",
       "      <td>16966100</td>\n",
       "      <td>0.0</td>\n",
       "      <td>0.0</td>\n",
       "      <td>2020</td>\n",
       "      <td>12</td>\n",
       "      <td>14</td>\n",
       "      <td>-2.449294e-16</td>\n",
       "      <td>1.0</td>\n",
       "      <td>-4.898587e-16</td>\n",
       "      <td>1.000000</td>\n",
       "      <td>-0.040000</td>\n",
       "    </tr>\n",
       "    <tr>\n",
       "      <th>3</th>\n",
       "      <td>2020-12-15 05:00:00+00:00</td>\n",
       "      <td>126.690002</td>\n",
       "      <td>127.599998</td>\n",
       "      <td>121.500000</td>\n",
       "      <td>124.800003</td>\n",
       "      <td>10914400</td>\n",
       "      <td>0.0</td>\n",
       "      <td>0.0</td>\n",
       "      <td>2020</td>\n",
       "      <td>12</td>\n",
       "      <td>15</td>\n",
       "      <td>-2.449294e-16</td>\n",
       "      <td>1.0</td>\n",
       "      <td>7.818315e-01</td>\n",
       "      <td>0.623490</td>\n",
       "      <td>0.105689</td>\n",
       "    </tr>\n",
       "    <tr>\n",
       "      <th>4</th>\n",
       "      <td>2020-12-16 05:00:00+00:00</td>\n",
       "      <td>125.830002</td>\n",
       "      <td>142.000000</td>\n",
       "      <td>124.910004</td>\n",
       "      <td>137.990005</td>\n",
       "      <td>20409600</td>\n",
       "      <td>0.0</td>\n",
       "      <td>0.0</td>\n",
       "      <td>2020</td>\n",
       "      <td>12</td>\n",
       "      <td>16</td>\n",
       "      <td>-2.449294e-16</td>\n",
       "      <td>1.0</td>\n",
       "      <td>9.749279e-01</td>\n",
       "      <td>-0.222521</td>\n",
       "      <td>0.065657</td>\n",
       "    </tr>\n",
       "  </tbody>\n",
       "</table>\n",
       "</div>"
      ],
      "text/plain": [
       "                       Date        Open        High         Low       Close  \\\n",
       "0 2020-12-10 05:00:00+00:00  146.000000  165.000000  141.250000  144.710007   \n",
       "1 2020-12-11 05:00:00+00:00  146.550003  151.500000  135.100006  139.250000   \n",
       "2 2020-12-14 05:00:00+00:00  135.000000  135.300003  125.160004  130.000000   \n",
       "3 2020-12-15 05:00:00+00:00  126.690002  127.599998  121.500000  124.800003   \n",
       "4 2020-12-16 05:00:00+00:00  125.830002  142.000000  124.910004  137.990005   \n",
       "\n",
       "     Volume  Dividends  Stock Splits  year  month  day     month_sin  \\\n",
       "0  70447500        0.0           0.0  2020     12   10 -2.449294e-16   \n",
       "1  26980800        0.0           0.0  2020     12   11 -2.449294e-16   \n",
       "2  16966100        0.0           0.0  2020     12   14 -2.449294e-16   \n",
       "3  10914400        0.0           0.0  2020     12   15 -2.449294e-16   \n",
       "4  20409600        0.0           0.0  2020     12   16 -2.449294e-16   \n",
       "\n",
       "   month_cos       day_sin   day_cos  price_change  \n",
       "0        1.0  4.338837e-01 -0.900969     -0.037731  \n",
       "1        1.0 -4.338837e-01 -0.900969     -0.066427  \n",
       "2        1.0 -4.898587e-16  1.000000     -0.040000  \n",
       "3        1.0  7.818315e-01  0.623490      0.105689  \n",
       "4        1.0  9.749279e-01 -0.222521      0.065657  "
      ]
     },
     "execution_count": 95,
     "metadata": {},
     "output_type": "execute_result"
    }
   ],
   "source": [
    "df['price_change'] = df['price_change'].fillna(0)\n",
    "df.head()"
   ]
  },
  {
   "cell_type": "code",
   "execution_count": 96,
   "metadata": {},
   "outputs": [
    {
     "data": {
      "image/png": "[encoded data removed]",
      "text/plain": [
       "<Figure size 640x480 with 1 Axes>"
      ]
     },
     "metadata": {},
     "output_type": "display_data"
    }
   ],
   "source": [
    "plt.plot(df['Date'], df['price_change'])\n",
    "plt.xlabel('Date')\n",
    "plt.ylabel('Price Change')\n",
    "plt.gca().xaxis.set_major_locator(mdates.DayLocator(interval=60))\n",
    "plt.gca().xaxis.set_major_formatter(mdates.DateFormatter('%Y-%m-%d'))\n",
    "plt.xticks(rotation=45)\n",
    "plt.show()"
   ]
  },
  {
   "cell_type": "code",
   "execution_count": 97,
   "metadata": {},
   "outputs": [
    {
     "data": {
      "text/html": [
       "<div>\n",
       "<style scoped>\n",
       "    .dataframe tbody tr th:only-of-type {\n",
       "        vertical-align: middle;\n",
       "    }\n",
       "\n",
       "    .dataframe tbody tr th {\n",
       "        vertical-align: top;\n",
       "    }\n",
       "\n",
       "    .dataframe thead th {\n",
       "        text-align: right;\n",
       "    }\n",
       "</style>\n",
       "<table border=\"1\" class=\"dataframe\">\n",
       "  <thead>\n",
       "    <tr style=\"text-align: right;\">\n",
       "      <th></th>\n",
       "      <th>Date</th>\n",
       "      <th>Open</th>\n",
       "      <th>High</th>\n",
       "      <th>Low</th>\n",
       "      <th>Close</th>\n",
       "      <th>Volume</th>\n",
       "      <th>Dividends</th>\n",
       "      <th>Stock Splits</th>\n",
       "      <th>year</th>\n",
       "      <th>month</th>\n",
       "      <th>day</th>\n",
       "      <th>month_sin</th>\n",
       "      <th>month_cos</th>\n",
       "      <th>day_sin</th>\n",
       "      <th>day_cos</th>\n",
       "      <th>price_change</th>\n",
       "    </tr>\n",
       "  </thead>\n",
       "  <tbody>\n",
       "    <tr>\n",
       "      <th>0</th>\n",
       "      <td>2020-12-10 05:00:00+00:00</td>\n",
       "      <td>146.000000</td>\n",
       "      <td>165.000000</td>\n",
       "      <td>141.250000</td>\n",
       "      <td>144.710007</td>\n",
       "      <td>70447500</td>\n",
       "      <td>0.0</td>\n",
       "      <td>0.0</td>\n",
       "      <td>2020</td>\n",
       "      <td>12</td>\n",
       "      <td>10</td>\n",
       "      <td>-2.449294e-16</td>\n",
       "      <td>1.0</td>\n",
       "      <td>4.338837e-01</td>\n",
       "      <td>-0.900969</td>\n",
       "      <td>-0.037731</td>\n",
       "    </tr>\n",
       "    <tr>\n",
       "      <th>1</th>\n",
       "      <td>2020-12-11 05:00:00+00:00</td>\n",
       "      <td>146.550003</td>\n",
       "      <td>151.500000</td>\n",
       "      <td>135.100006</td>\n",
       "      <td>139.250000</td>\n",
       "      <td>26980800</td>\n",
       "      <td>0.0</td>\n",
       "      <td>0.0</td>\n",
       "      <td>2020</td>\n",
       "      <td>12</td>\n",
       "      <td>11</td>\n",
       "      <td>-2.449294e-16</td>\n",
       "      <td>1.0</td>\n",
       "      <td>-4.338837e-01</td>\n",
       "      <td>-0.900969</td>\n",
       "      <td>-0.066427</td>\n",
       "    </tr>\n",
       "    <tr>\n",
       "      <th>2</th>\n",
       "      <td>2020-12-14 05:00:00+00:00</td>\n",
       "      <td>135.000000</td>\n",
       "      <td>135.300003</td>\n",
       "      <td>125.160004</td>\n",
       "      <td>130.000000</td>\n",
       "      <td>16966100</td>\n",
       "      <td>0.0</td>\n",
       "      <td>0.0</td>\n",
       "      <td>2020</td>\n",
       "      <td>12</td>\n",
       "      <td>14</td>\n",
       "      <td>-2.449294e-16</td>\n",
       "      <td>1.0</td>\n",
       "      <td>-4.898587e-16</td>\n",
       "      <td>1.000000</td>\n",
       "      <td>-0.040000</td>\n",
       "    </tr>\n",
       "    <tr>\n",
       "      <th>3</th>\n",
       "      <td>2020-12-15 05:00:00+00:00</td>\n",
       "      <td>126.690002</td>\n",
       "      <td>127.599998</td>\n",
       "      <td>121.500000</td>\n",
       "      <td>124.800003</td>\n",
       "      <td>10914400</td>\n",
       "      <td>0.0</td>\n",
       "      <td>0.0</td>\n",
       "      <td>2020</td>\n",
       "      <td>12</td>\n",
       "      <td>15</td>\n",
       "      <td>-2.449294e-16</td>\n",
       "      <td>1.0</td>\n",
       "      <td>7.818315e-01</td>\n",
       "      <td>0.623490</td>\n",
       "      <td>0.105689</td>\n",
       "    </tr>\n",
       "    <tr>\n",
       "      <th>4</th>\n",
       "      <td>2020-12-16 05:00:00+00:00</td>\n",
       "      <td>125.830002</td>\n",
       "      <td>142.000000</td>\n",
       "      <td>124.910004</td>\n",
       "      <td>137.990005</td>\n",
       "      <td>20409600</td>\n",
       "      <td>0.0</td>\n",
       "      <td>0.0</td>\n",
       "      <td>2020</td>\n",
       "      <td>12</td>\n",
       "      <td>16</td>\n",
       "      <td>-2.449294e-16</td>\n",
       "      <td>1.0</td>\n",
       "      <td>9.749279e-01</td>\n",
       "      <td>-0.222521</td>\n",
       "      <td>0.065657</td>\n",
       "    </tr>\n",
       "  </tbody>\n",
       "</table>\n",
       "</div>"
      ],
      "text/plain": [
       "                       Date        Open        High         Low       Close  \\\n",
       "0 2020-12-10 05:00:00+00:00  146.000000  165.000000  141.250000  144.710007   \n",
       "1 2020-12-11 05:00:00+00:00  146.550003  151.500000  135.100006  139.250000   \n",
       "2 2020-12-14 05:00:00+00:00  135.000000  135.300003  125.160004  130.000000   \n",
       "3 2020-12-15 05:00:00+00:00  126.690002  127.599998  121.500000  124.800003   \n",
       "4 2020-12-16 05:00:00+00:00  125.830002  142.000000  124.910004  137.990005   \n",
       "\n",
       "     Volume  Dividends  Stock Splits  year  month  day     month_sin  \\\n",
       "0  70447500        0.0           0.0  2020     12   10 -2.449294e-16   \n",
       "1  26980800        0.0           0.0  2020     12   11 -2.449294e-16   \n",
       "2  16966100        0.0           0.0  2020     12   14 -2.449294e-16   \n",
       "3  10914400        0.0           0.0  2020     12   15 -2.449294e-16   \n",
       "4  20409600        0.0           0.0  2020     12   16 -2.449294e-16   \n",
       "\n",
       "   month_cos       day_sin   day_cos  price_change  \n",
       "0        1.0  4.338837e-01 -0.900969     -0.037731  \n",
       "1        1.0 -4.338837e-01 -0.900969     -0.066427  \n",
       "2        1.0 -4.898587e-16  1.000000     -0.040000  \n",
       "3        1.0  7.818315e-01  0.623490      0.105689  \n",
       "4        1.0  9.749279e-01 -0.222521      0.065657  "
      ]
     },
     "execution_count": 97,
     "metadata": {},
     "output_type": "execute_result"
    }
   ],
   "source": [
    "df.head()"
   ]
  },
  {
   "cell_type": "code",
   "execution_count": 98,
   "metadata": {},
   "outputs": [
    {
     "data": {
      "text/html": [
       "<div>\n",
       "<style scoped>\n",
       "    .dataframe tbody tr th:only-of-type {\n",
       "        vertical-align: middle;\n",
       "    }\n",
       "\n",
       "    .dataframe tbody tr th {\n",
       "        vertical-align: top;\n",
       "    }\n",
       "\n",
       "    .dataframe thead th {\n",
       "        text-align: right;\n",
       "    }\n",
       "</style>\n",
       "<table border=\"1\" class=\"dataframe\">\n",
       "  <thead>\n",
       "    <tr style=\"text-align: right;\">\n",
       "      <th></th>\n",
       "      <th>Date</th>\n",
       "      <th>Open</th>\n",
       "      <th>High</th>\n",
       "      <th>Low</th>\n",
       "      <th>Close</th>\n",
       "      <th>Volume</th>\n",
       "      <th>Dividends</th>\n",
       "      <th>Stock Splits</th>\n",
       "      <th>year</th>\n",
       "      <th>month</th>\n",
       "      <th>day</th>\n",
       "      <th>month_sin</th>\n",
       "      <th>month_cos</th>\n",
       "      <th>day_sin</th>\n",
       "      <th>day_cos</th>\n",
       "      <th>price_change</th>\n",
       "      <th>change</th>\n",
       "    </tr>\n",
       "  </thead>\n",
       "  <tbody>\n",
       "    <tr>\n",
       "      <th>0</th>\n",
       "      <td>2020-12-10 05:00:00+00:00</td>\n",
       "      <td>146.000000</td>\n",
       "      <td>165.000000</td>\n",
       "      <td>141.250000</td>\n",
       "      <td>144.710007</td>\n",
       "      <td>70447500</td>\n",
       "      <td>0.0</td>\n",
       "      <td>0.0</td>\n",
       "      <td>2020</td>\n",
       "      <td>12</td>\n",
       "      <td>10</td>\n",
       "      <td>-2.449294e-16</td>\n",
       "      <td>1.0</td>\n",
       "      <td>4.338837e-01</td>\n",
       "      <td>-0.900969</td>\n",
       "      <td>-0.037731</td>\n",
       "      <td>0</td>\n",
       "    </tr>\n",
       "    <tr>\n",
       "      <th>1</th>\n",
       "      <td>2020-12-11 05:00:00+00:00</td>\n",
       "      <td>146.550003</td>\n",
       "      <td>151.500000</td>\n",
       "      <td>135.100006</td>\n",
       "      <td>139.250000</td>\n",
       "      <td>26980800</td>\n",
       "      <td>0.0</td>\n",
       "      <td>0.0</td>\n",
       "      <td>2020</td>\n",
       "      <td>12</td>\n",
       "      <td>11</td>\n",
       "      <td>-2.449294e-16</td>\n",
       "      <td>1.0</td>\n",
       "      <td>-4.338837e-01</td>\n",
       "      <td>-0.900969</td>\n",
       "      <td>-0.066427</td>\n",
       "      <td>0</td>\n",
       "    </tr>\n",
       "    <tr>\n",
       "      <th>2</th>\n",
       "      <td>2020-12-14 05:00:00+00:00</td>\n",
       "      <td>135.000000</td>\n",
       "      <td>135.300003</td>\n",
       "      <td>125.160004</td>\n",
       "      <td>130.000000</td>\n",
       "      <td>16966100</td>\n",
       "      <td>0.0</td>\n",
       "      <td>0.0</td>\n",
       "      <td>2020</td>\n",
       "      <td>12</td>\n",
       "      <td>14</td>\n",
       "      <td>-2.449294e-16</td>\n",
       "      <td>1.0</td>\n",
       "      <td>-4.898587e-16</td>\n",
       "      <td>1.000000</td>\n",
       "      <td>-0.040000</td>\n",
       "      <td>0</td>\n",
       "    </tr>\n",
       "    <tr>\n",
       "      <th>3</th>\n",
       "      <td>2020-12-15 05:00:00+00:00</td>\n",
       "      <td>126.690002</td>\n",
       "      <td>127.599998</td>\n",
       "      <td>121.500000</td>\n",
       "      <td>124.800003</td>\n",
       "      <td>10914400</td>\n",
       "      <td>0.0</td>\n",
       "      <td>0.0</td>\n",
       "      <td>2020</td>\n",
       "      <td>12</td>\n",
       "      <td>15</td>\n",
       "      <td>-2.449294e-16</td>\n",
       "      <td>1.0</td>\n",
       "      <td>7.818315e-01</td>\n",
       "      <td>0.623490</td>\n",
       "      <td>0.105689</td>\n",
       "      <td>1</td>\n",
       "    </tr>\n",
       "    <tr>\n",
       "      <th>4</th>\n",
       "      <td>2020-12-16 05:00:00+00:00</td>\n",
       "      <td>125.830002</td>\n",
       "      <td>142.000000</td>\n",
       "      <td>124.910004</td>\n",
       "      <td>137.990005</td>\n",
       "      <td>20409600</td>\n",
       "      <td>0.0</td>\n",
       "      <td>0.0</td>\n",
       "      <td>2020</td>\n",
       "      <td>12</td>\n",
       "      <td>16</td>\n",
       "      <td>-2.449294e-16</td>\n",
       "      <td>1.0</td>\n",
       "      <td>9.749279e-01</td>\n",
       "      <td>-0.222521</td>\n",
       "      <td>0.065657</td>\n",
       "      <td>1</td>\n",
       "    </tr>\n",
       "  </tbody>\n",
       "</table>\n",
       "</div>"
      ],
      "text/plain": [
       "                       Date        Open        High         Low       Close  \\\n",
       "0 2020-12-10 05:00:00+00:00  146.000000  165.000000  141.250000  144.710007   \n",
       "1 2020-12-11 05:00:00+00:00  146.550003  151.500000  135.100006  139.250000   \n",
       "2 2020-12-14 05:00:00+00:00  135.000000  135.300003  125.160004  130.000000   \n",
       "3 2020-12-15 05:00:00+00:00  126.690002  127.599998  121.500000  124.800003   \n",
       "4 2020-12-16 05:00:00+00:00  125.830002  142.000000  124.910004  137.990005   \n",
       "\n",
       "     Volume  Dividends  Stock Splits  year  month  day     month_sin  \\\n",
       "0  70447500        0.0           0.0  2020     12   10 -2.449294e-16   \n",
       "1  26980800        0.0           0.0  2020     12   11 -2.449294e-16   \n",
       "2  16966100        0.0           0.0  2020     12   14 -2.449294e-16   \n",
       "3  10914400        0.0           0.0  2020     12   15 -2.449294e-16   \n",
       "4  20409600        0.0           0.0  2020     12   16 -2.449294e-16   \n",
       "\n",
       "   month_cos       day_sin   day_cos  price_change  change  \n",
       "0        1.0  4.338837e-01 -0.900969     -0.037731       0  \n",
       "1        1.0 -4.338837e-01 -0.900969     -0.066427       0  \n",
       "2        1.0 -4.898587e-16  1.000000     -0.040000       0  \n",
       "3        1.0  7.818315e-01  0.623490      0.105689       1  \n",
       "4        1.0  9.749279e-01 -0.222521      0.065657       1  "
      ]
     },
     "execution_count": 98,
     "metadata": {},
     "output_type": "execute_result"
    }
   ],
   "source": [
    "df['change'] = df['price_change'].apply(lambda x :  1 if x > 0 else 0)\n",
    "\n",
    "df.head()"
   ]
  },
  {
   "cell_type": "code",
   "execution_count": 99,
   "metadata": {},
   "outputs": [],
   "source": [
    "scaler = StandardScaler()\n",
    "\n",
    "for column in df.columns:\n",
    "    if column != 'change':\n",
    "        df[column] = scaler.fit_transform(df[[column]])\n",
    "    # print(column, ': max = ', t[column].max(), '  min = ', t[column].min())"
   ]
  },
  {
   "cell_type": "markdown",
   "metadata": {},
   "source": [
    "Since I am trying to predict the future trends of the stock, I have to do a time-based split. What this means is making the testing data the values of the stock at earlier dates and the testing data the later values form the data set."
   ]
  },
  {
   "cell_type": "code",
   "execution_count": 100,
   "metadata": {},
   "outputs": [
    {
     "name": "stdout",
     "output_type": "stream",
     "text": [
      "199\n",
      "99\n",
      "(800, 17)\n",
      "(100, 17)\n",
      "(99, 17)\n",
      "(999, 17)\n"
     ]
    }
   ],
   "source": [
    "split_index1 = int(df.shape[0] * 0.2)\n",
    "split_index2 = int(df.shape[0] * 0.1)\n",
    "\n",
    "print(split_index1)\n",
    "print(split_index2)\n",
    "\n",
    "test_df = df.iloc[:split_index2]\n",
    "val_df = df.iloc[split_index2:split_index1]\n",
    "train_df = df.iloc[split_index1:]\n",
    "\n",
    "\n",
    "\n",
    "print(train_df.shape)\n",
    "print(val_df.shape)\n",
    "print(test_df.shape)\n",
    "print(df.shape)\n"
   ]
  },
  {
   "cell_type": "code",
   "execution_count": 101,
   "metadata": {},
   "outputs": [
    {
     "name": "stdout",
     "output_type": "stream",
     "text": [
      "Date           -1.038339\n",
      "Open            1.326557\n",
      "High            1.233868\n",
      "Low             1.357177\n",
      "Close           1.299366\n",
      "Volume         -0.513663\n",
      "Dividends       0.000000\n",
      "Stock Splits    0.000000\n",
      "year           -1.253502\n",
      "month           0.727699\n",
      "day             1.283418\n",
      "month_sin      -1.392776\n",
      "month_cos       0.018993\n",
      "day_sin        -1.200724\n",
      "day_cos         0.872496\n",
      "price_change   -1.063667\n",
      "change          0.000000\n",
      "Name: 199, dtype: float64\n",
      "Date           -1.384399\n",
      "Open            1.110529\n",
      "High            1.007808\n",
      "Low             0.970193\n",
      "Close           0.845663\n",
      "Volume         -0.505821\n",
      "Dividends       0.000000\n",
      "Stock Splits    0.000000\n",
      "year           -1.253502\n",
      "month          -0.444363\n",
      "day            -1.231468\n",
      "month_sin       0.715569\n",
      "month_cos      -1.213709\n",
      "day_sin        -1.472516\n",
      "day_cos        -0.336069\n",
      "price_change   -1.738242\n",
      "change          0.000000\n",
      "Name: 99, dtype: float64\n"
     ]
    }
   ],
   "source": [
    "print(train_df.iloc[0])\n",
    "print(val_df.iloc[0])"
   ]
  },
  {
   "cell_type": "code",
   "execution_count": 102,
   "metadata": {},
   "outputs": [
    {
     "name": "stdout",
     "output_type": "stream",
     "text": [
      "Date            -1.732747\n",
      "Open             0.227470\n",
      "High             0.817063\n",
      "Low              0.154398\n",
      "Close            0.175567\n",
      "Volume          13.043133\n",
      "Dividends        0.000000\n",
      "Stock Splits     0.000000\n",
      "year            -2.129813\n",
      "month            1.606746\n",
      "day             -0.659903\n",
      "month_sin        0.012787\n",
      "month_cos        1.442395\n",
      "day_sin          0.510453\n",
      "day_cos         -1.305263\n",
      "price_change    -1.229129\n",
      "change           0.000000\n",
      "Name: 0, dtype: float64\n"
     ]
    }
   ],
   "source": [
    "print(test_df.iloc[0])"
   ]
  },
  {
   "cell_type": "code",
   "execution_count": 103,
   "metadata": {},
   "outputs": [
    {
     "data": {
      "text/html": [
       "<div>\n",
       "<style scoped>\n",
       "    .dataframe tbody tr th:only-of-type {\n",
       "        vertical-align: middle;\n",
       "    }\n",
       "\n",
       "    .dataframe tbody tr th {\n",
       "        vertical-align: top;\n",
       "    }\n",
       "\n",
       "    .dataframe thead th {\n",
       "        text-align: right;\n",
       "    }\n",
       "</style>\n",
       "<table border=\"1\" class=\"dataframe\">\n",
       "  <thead>\n",
       "    <tr style=\"text-align: right;\">\n",
       "      <th></th>\n",
       "      <th>Date</th>\n",
       "      <th>Open</th>\n",
       "      <th>High</th>\n",
       "      <th>Low</th>\n",
       "      <th>Close</th>\n",
       "      <th>Volume</th>\n",
       "      <th>Dividends</th>\n",
       "      <th>Stock Splits</th>\n",
       "      <th>year</th>\n",
       "      <th>month</th>\n",
       "      <th>day</th>\n",
       "      <th>month_sin</th>\n",
       "      <th>month_cos</th>\n",
       "      <th>day_sin</th>\n",
       "      <th>day_cos</th>\n",
       "      <th>price_change</th>\n",
       "      <th>change</th>\n",
       "    </tr>\n",
       "  </thead>\n",
       "  <tbody>\n",
       "    <tr>\n",
       "      <th>0</th>\n",
       "      <td>-1.732747</td>\n",
       "      <td>0.227470</td>\n",
       "      <td>0.817063</td>\n",
       "      <td>0.154398</td>\n",
       "      <td>0.175567</td>\n",
       "      <td>13.043133</td>\n",
       "      <td>0.0</td>\n",
       "      <td>0.0</td>\n",
       "      <td>-2.129813</td>\n",
       "      <td>1.606746</td>\n",
       "      <td>-0.659903</td>\n",
       "      <td>0.012787</td>\n",
       "      <td>1.442395</td>\n",
       "      <td>0.510453</td>\n",
       "      <td>-1.305263</td>\n",
       "      <td>-1.229129</td>\n",
       "      <td>0</td>\n",
       "    </tr>\n",
       "    <tr>\n",
       "      <th>1</th>\n",
       "      <td>-1.730360</td>\n",
       "      <td>0.248315</td>\n",
       "      <td>0.319945</td>\n",
       "      <td>-0.086001</td>\n",
       "      <td>-0.032080</td>\n",
       "      <td>4.234410</td>\n",
       "      <td>0.0</td>\n",
       "      <td>0.0</td>\n",
       "      <td>-2.129813</td>\n",
       "      <td>1.606746</td>\n",
       "      <td>-0.545590</td>\n",
       "      <td>0.012787</td>\n",
       "      <td>1.442395</td>\n",
       "      <td>-0.710971</td>\n",
       "      <td>-1.305263</td>\n",
       "      <td>-2.153669</td>\n",
       "      <td>0</td>\n",
       "    </tr>\n",
       "    <tr>\n",
       "      <th>2</th>\n",
       "      <td>-1.723201</td>\n",
       "      <td>-0.189425</td>\n",
       "      <td>-0.276596</td>\n",
       "      <td>-0.474549</td>\n",
       "      <td>-0.383862</td>\n",
       "      <td>2.204886</td>\n",
       "      <td>0.0</td>\n",
       "      <td>0.0</td>\n",
       "      <td>-2.129813</td>\n",
       "      <td>1.606746</td>\n",
       "      <td>-0.202651</td>\n",
       "      <td>0.012787</td>\n",
       "      <td>1.442395</td>\n",
       "      <td>-0.100259</td>\n",
       "      <td>1.410358</td>\n",
       "      <td>-1.302241</td>\n",
       "      <td>0</td>\n",
       "    </tr>\n",
       "    <tr>\n",
       "      <th>3</th>\n",
       "      <td>-1.720814</td>\n",
       "      <td>-0.504370</td>\n",
       "      <td>-0.560137</td>\n",
       "      <td>-0.617616</td>\n",
       "      <td>-0.581620</td>\n",
       "      <td>0.978482</td>\n",
       "      <td>0.0</td>\n",
       "      <td>0.0</td>\n",
       "      <td>-2.129813</td>\n",
       "      <td>1.606746</td>\n",
       "      <td>-0.088338</td>\n",
       "      <td>0.012787</td>\n",
       "      <td>1.442395</td>\n",
       "      <td>1.000206</td>\n",
       "      <td>0.872496</td>\n",
       "      <td>3.391535</td>\n",
       "      <td>1</td>\n",
       "    </tr>\n",
       "    <tr>\n",
       "      <th>4</th>\n",
       "      <td>-1.718427</td>\n",
       "      <td>-0.536963</td>\n",
       "      <td>-0.029878</td>\n",
       "      <td>-0.484321</td>\n",
       "      <td>-0.079998</td>\n",
       "      <td>2.902727</td>\n",
       "      <td>0.0</td>\n",
       "      <td>0.0</td>\n",
       "      <td>-2.129813</td>\n",
       "      <td>1.606746</td>\n",
       "      <td>0.025975</td>\n",
       "      <td>0.012787</td>\n",
       "      <td>1.442395</td>\n",
       "      <td>1.271999</td>\n",
       "      <td>-0.336069</td>\n",
       "      <td>2.101787</td>\n",
       "      <td>1</td>\n",
       "    </tr>\n",
       "  </tbody>\n",
       "</table>\n",
       "</div>"
      ],
      "text/plain": [
       "       Date      Open      High       Low     Close     Volume  Dividends  \\\n",
       "0 -1.732747  0.227470  0.817063  0.154398  0.175567  13.043133        0.0   \n",
       "1 -1.730360  0.248315  0.319945 -0.086001 -0.032080   4.234410        0.0   \n",
       "2 -1.723201 -0.189425 -0.276596 -0.474549 -0.383862   2.204886        0.0   \n",
       "3 -1.720814 -0.504370 -0.560137 -0.617616 -0.581620   0.978482        0.0   \n",
       "4 -1.718427 -0.536963 -0.029878 -0.484321 -0.079998   2.902727        0.0   \n",
       "\n",
       "   Stock Splits      year     month       day  month_sin  month_cos   day_sin  \\\n",
       "0           0.0 -2.129813  1.606746 -0.659903   0.012787   1.442395  0.510453   \n",
       "1           0.0 -2.129813  1.606746 -0.545590   0.012787   1.442395 -0.710971   \n",
       "2           0.0 -2.129813  1.606746 -0.202651   0.012787   1.442395 -0.100259   \n",
       "3           0.0 -2.129813  1.606746 -0.088338   0.012787   1.442395  1.000206   \n",
       "4           0.0 -2.129813  1.606746  0.025975   0.012787   1.442395  1.271999   \n",
       "\n",
       "    day_cos  price_change  change  \n",
       "0 -1.305263     -1.229129       0  \n",
       "1 -1.305263     -2.153669       0  \n",
       "2  1.410358     -1.302241       0  \n",
       "3  0.872496      3.391535       1  \n",
       "4 -0.336069      2.101787       1  "
      ]
     },
     "execution_count": 103,
     "metadata": {},
     "output_type": "execute_result"
    }
   ],
   "source": [
    "test_df.head()"
   ]
  },
  {
   "cell_type": "code",
   "execution_count": 104,
   "metadata": {},
   "outputs": [],
   "source": [
    "class Data(Dataset):\n",
    "    def __init__(self, df):\n",
    "        # self.x = torch.tensor(df.drop(columns=['price_change','Date', 'Adj.Close','month', 'day', 'change', 'year']).values, dtype = torch.float32)\n",
    "        self.x = torch.tensor(df.drop(columns=['price_change','Date','month', 'day', 'change', 'year', 'Dividends', 'Stock Splits']).values, dtype = torch.float32)\n",
    "        self.y = torch.tensor(df['change'].values, dtype=torch.float32)\n",
    "        self.len = df.shape[0]\n",
    "    \n",
    "    def __len__(self):\n",
    "        return self.len\n",
    "    \n",
    "    def __getitem__(self, index):\n",
    "        return self.x[index], self.y[index]\n",
    "    \n",
    "train_ds = Data(train_df)\n",
    "test_ds = Data(test_df)\n",
    "val_ds = Data(val_df)"
   ]
  },
  {
   "cell_type": "code",
   "execution_count": 105,
   "metadata": {},
   "outputs": [
    {
     "data": {
      "text/plain": [
       "tensor([0., 0., 0., 1., 0., 1., 1., 1., 1., 0., 1., 1., 0., 0., 1., 0., 0., 1.,\n",
       "        0., 1., 1., 0., 1., 0., 1., 0., 0., 1., 1., 0., 0., 0., 0., 1., 1., 0.,\n",
       "        0., 1., 0., 0., 0., 1., 0., 1., 0., 0., 1., 0., 1., 1., 1., 0., 0., 0.,\n",
       "        0., 1., 0., 1., 0., 1., 1., 1., 1., 0., 0., 1., 0., 1., 0., 0., 0., 1.,\n",
       "        0., 1., 1., 0., 0., 0., 0., 1., 0., 0., 0., 0., 0., 1., 1., 1., 0., 0.,\n",
       "        1., 1., 1., 1., 1., 0., 1., 1., 1., 0., 0., 0., 0., 1., 0., 0., 0., 1.,\n",
       "        0., 0., 0., 1., 1., 1., 0., 0., 1., 1., 1., 1., 0., 1., 0., 1., 0., 1.,\n",
       "        1., 0., 0., 1., 1., 0., 0., 1., 0., 0., 0., 1., 0., 0., 1., 0., 0., 0.,\n",
       "        1., 0., 0., 1., 0., 0., 0., 1., 0., 0., 0., 0., 1., 0., 1., 0., 1., 0.,\n",
       "        1., 0., 1., 0., 1., 1., 1., 1., 0., 1., 0., 1., 1., 1., 0., 0., 0., 0.,\n",
       "        1., 0., 1., 1., 0., 0., 1., 0., 0., 0., 0., 1., 1., 0., 1., 0., 0., 1.,\n",
       "        0., 0., 1., 1., 1., 1., 1., 0., 1., 0., 1., 1., 1., 1., 1., 0., 1., 0.,\n",
       "        0., 0., 1., 1., 1., 1., 0., 0., 0., 0., 0., 1., 1., 1., 0., 1., 0., 1.,\n",
       "        1., 1., 1., 1., 1., 1., 1., 0., 1., 0., 0., 1., 0., 0., 0., 0., 1., 1.,\n",
       "        1., 0., 0., 0., 1., 1., 0., 0., 1., 0., 1., 1., 0., 1., 1., 0., 1., 1.,\n",
       "        0., 1., 0., 0., 1., 0., 1., 0., 0., 1., 0., 1., 0., 1., 1., 0., 1., 0.,\n",
       "        0., 0., 0., 0., 1., 1., 0., 1., 1., 0., 0., 0., 0., 0., 1., 0., 1., 0.,\n",
       "        1., 0., 0., 0., 1., 0., 0., 1., 0., 0., 1., 1., 0., 1., 0., 1., 1., 0.,\n",
       "        1., 1., 1., 1., 0., 0., 1., 1., 0., 1., 1., 1., 0., 1., 1., 1., 1., 0.,\n",
       "        1., 0., 0., 0., 1., 1., 1., 1., 0., 0., 0., 0., 0., 1., 0., 0., 1., 1.,\n",
       "        1., 1., 0., 0., 0., 0., 1., 0., 1., 0., 1., 1., 0., 0., 0., 1., 0., 1.,\n",
       "        1., 1., 0., 0., 0., 0., 1., 1., 0., 1., 1., 1., 1., 1., 0., 0., 1., 0.,\n",
       "        1., 1., 1., 1., 0., 0., 0., 1., 1., 1., 0., 0., 0., 1., 0., 1., 1., 0.,\n",
       "        1., 0., 0., 0., 1., 1., 1., 1., 1., 0., 1., 0., 0., 1., 1., 1., 1., 1.,\n",
       "        1., 0., 1., 1., 0., 0., 1., 0., 0., 1., 1., 0., 0., 1., 1., 1., 0., 1.,\n",
       "        1., 1., 1., 0., 0., 1., 0., 1., 1., 0., 1., 0., 0., 0., 0., 0., 1., 0.,\n",
       "        0., 0., 0., 0., 0., 0., 0., 0., 0., 1., 1., 0., 1., 1., 1., 0., 1., 1.,\n",
       "        1., 0., 1., 1., 1., 1., 0., 0., 0., 0., 0., 0., 0., 0., 1., 0., 1., 1.,\n",
       "        1., 0., 0., 0., 0., 1., 1., 1., 0., 0., 0., 1., 1., 0., 0., 0., 1., 1.,\n",
       "        0., 0., 0., 1., 1., 1., 0., 1., 0., 1., 0., 0., 1., 1., 1., 1., 0., 1.,\n",
       "        1., 0., 1., 0., 1., 0., 0., 0., 1., 0., 1., 1., 1., 1., 1., 0., 1., 1.,\n",
       "        0., 1., 0., 0., 1., 0., 0., 0., 1., 0., 0., 0., 1., 1., 1., 0., 1., 0.,\n",
       "        0., 0., 0., 1., 1., 1., 1., 0., 1., 1., 1., 0., 0., 1., 1., 0., 0., 1.,\n",
       "        1., 0., 1., 0., 0., 1., 0., 0., 1., 1., 0., 0., 1., 1., 1., 1., 0., 1.,\n",
       "        1., 0., 1., 0., 1., 0., 1., 0., 1., 0., 1., 1., 0., 1., 0., 0., 0., 0.,\n",
       "        0., 0., 0., 1., 0., 1., 0., 1., 0., 0., 1., 1., 1., 0., 1., 1., 1., 1.,\n",
       "        1., 0., 0., 0., 1., 1., 1., 0., 0., 0., 0., 1., 0., 0., 1., 0., 1., 0.,\n",
       "        0., 0., 1., 1., 0., 0., 0., 1., 1., 0., 1., 0., 1., 0., 1., 0., 0., 1.,\n",
       "        0., 1., 1., 0., 1., 0., 1., 1., 0., 1., 0., 0., 0., 1., 0., 0., 1., 1.,\n",
       "        1., 0., 0., 1., 1., 0., 0., 0., 1., 1., 0., 1., 0., 0., 0., 1., 0., 1.,\n",
       "        1., 0., 1., 0., 1., 0., 1., 0., 1., 0., 1., 0., 1., 1., 0., 1., 0., 1.,\n",
       "        1., 0., 1., 0., 1., 1., 1., 0., 1., 1., 1., 1., 0., 1., 0., 0., 0., 0.,\n",
       "        0., 1., 0., 1., 1., 1., 1., 0., 1., 1., 0., 1., 1., 1., 1., 0., 0., 1.,\n",
       "        1., 1., 1., 0., 0., 1., 1., 1., 1., 1., 0., 1., 0., 0., 1., 0., 0., 0.,\n",
       "        1., 0., 1., 1., 0., 0., 0., 0.])"
      ]
     },
     "execution_count": 105,
     "metadata": {},
     "output_type": "execute_result"
    }
   ],
   "source": [
    "train_ds.y"
   ]
  },
  {
   "cell_type": "markdown",
   "metadata": {},
   "source": [
    "Test if the Dataset class and DataLoader works."
   ]
  },
  {
   "cell_type": "code",
   "execution_count": 106,
   "metadata": {},
   "outputs": [
    {
     "data": {
      "text/plain": [
       "[tensor([[ 1.3266,  1.2339,  1.3572,  1.2994, -0.5137, -1.3928,  0.0190, -1.2007,\n",
       "           0.8725],\n",
       "         [ 1.2324,  1.1323,  1.1570,  1.0834, -0.3492, -1.3928,  0.0190, -0.1003,\n",
       "           1.4104],\n",
       "         [ 1.1408,  1.0461,  1.1434,  1.0640, -0.6682, -1.3928,  0.0190,  1.0002,\n",
       "           0.8725],\n",
       "         [ 1.0651,  0.9828,  1.1105,  1.0518, -0.6938, -1.3928,  0.0190,  1.2720,\n",
       "          -0.3361],\n",
       "         [ 1.1488,  1.1190,  1.2215,  1.2518, -0.2276, -1.2045,  0.7307,  1.0002,\n",
       "           0.8725],\n",
       "         [ 1.2125,  1.0844,  1.0449,  0.9282, -0.3297, -1.2045,  0.7307, -0.7110,\n",
       "          -1.3053],\n",
       "         [ 0.9730,  0.8756,  0.9823,  0.9373, -0.3538, -1.2045,  0.7307, -1.4725,\n",
       "          -0.3361],\n",
       "         [ 0.8107,  0.9025,  0.9119,  1.0328, -0.7345, -1.2045,  0.7307, -1.2007,\n",
       "           0.8725],\n",
       "         [ 1.1371,  1.0479,  1.2235,  1.1221, -0.8038, -1.2045,  0.7307, -0.1003,\n",
       "           1.4104],\n",
       "         [ 1.1408,  1.1522,  1.2579,  1.1362, -0.7743, -1.2045,  0.7307,  1.0002,\n",
       "           0.8725],\n",
       "         [ 1.1371,  1.0579,  1.1465,  1.0107, -0.8187, -1.2045,  0.7307, -0.7110,\n",
       "          -1.3053],\n",
       "         [ 1.2392,  1.2184,  1.3263,  1.2419, -0.0117, -1.2045,  0.7307, -1.4725,\n",
       "          -0.3361],\n",
       "         [ 1.2508,  1.1923,  1.3486,  1.2735, -0.5196, -1.2045,  0.7307, -1.2007,\n",
       "           0.8725],\n",
       "         [ 1.3357,  1.2497,  1.2798,  1.1564, -0.3945, -1.2045,  0.7307, -0.1003,\n",
       "           1.4104],\n",
       "         [ 1.2091,  1.1098,  1.2227,  1.1062, -0.5053, -1.2045,  0.7307,  1.0002,\n",
       "           0.8725],\n",
       "         [ 1.0423,  1.1006,  1.1652,  1.2256, -0.6672, -1.2045,  0.7307, -0.7110,\n",
       "          -1.3053]]),\n",
       " tensor([0., 0., 0., 1., 0., 1., 1., 1., 1., 0., 1., 1., 0., 0., 1., 0.])]"
      ]
     },
     "execution_count": 106,
     "metadata": {},
     "output_type": "execute_result"
    }
   ],
   "source": [
    "train_loader = DataLoader(train_ds,shuffle=False, batch_size=BATCH_SIZE)\n",
    "test_loader = DataLoader(test_ds, shuffle=False, batch_size=BATCH_SIZE)\n",
    "test = next(iter(train_loader))\n",
    "test"
   ]
  },
  {
   "cell_type": "code",
   "execution_count": 107,
   "metadata": {},
   "outputs": [],
   "source": [
    "class StockDataModule(L.LightningDataModule):\n",
    "    def __init__(self, data_dir, batch_size=8):\n",
    "        super().__init__()\n",
    "        self.data_dir = data_dir\n",
    "        self.batch_size = batch_size\n",
    "        \n",
    "    def prepare_data(self):\n",
    "        # Download data\n",
    "        if not os.path.exists(self.data_dir + csv_file):\n",
    "            # df = pd.read_csv(\"hf://datasets/nateraw/airbnb-stock-price/airbnb-stock-price.zip\")\n",
    "            df = pd.read_csv(\"../data/raw/24_11_29-ABNB_5y_history.csv\")\n",
    "            df.to_csv(self.data_dir + csv_file, index=False)\n",
    "\n",
    "    # Feature selection and engineering\n",
    "    def setup(self, stage=None):\n",
    "        self.prepare_data()\n",
    "        df = pd.read_csv(self.data_dir + csv_file)\n",
    "        \n",
    "        # df['Date'] = pd.to_datetime(df['Date'], format='%m/%d/%y')\n",
    "        df['Date'] = pd.to_datetime(df['Date'], utc=True)\n",
    "        df['year'] = df['Date'].dt.year\n",
    "        df['month'] = df['Date'].dt.month\n",
    "        df['day'] = df['Date'].dt.day\n",
    "\n",
    "        df['month_sin'] = np.sin(2*np.pi*df['month']/12)\n",
    "        df['month_cos'] = np.cos(2*np.pi*df['month']/12)\n",
    "\n",
    "        df['day_sin'] = np.sin(2*np.pi*df['day']/7)\n",
    "        df['day_cos'] = np.cos(2*np.pi*df['day']/7)\n",
    "\n",
    "        # df['price_change'] = df['Adj.Close'].pct_change()\n",
    "        # df['price_change'] = df['Close'].pct_change()\n",
    "        df['price_change'] = (df['Close'].shift(-1) - df['Close']) / df['Close']\n",
    "        df['price_change'] = df['price_change'].fillna(0)\n",
    "\n",
    "        df['change'] = df['price_change'].apply(lambda x: 1 if x > 0 else 0)\n",
    "\n",
    "        # Normalizing Data\n",
    "        scalar = StandardScaler()\n",
    "\n",
    "        for column in df.columns:\n",
    "            if column != 'change':\n",
    "                df[column] = scalar.fit_transform(df[[column]])\n",
    "\n",
    "        # Splitting the data into train, validation, and test\n",
    "\n",
    "        split_index1 = int(df.shape[0] * 0.2)\n",
    "        split_index2 = int(df.shape[0] * 0.1)\n",
    "\n",
    "        self.test_df = df.iloc[:split_index2]\n",
    "        self.val_df = df.iloc[split_index2:split_index1]\n",
    "        self.train_df = df.iloc[split_index1:]\n",
    "\n",
    "        self.train_df.to_csv(self.data_dir + \"train_df.csv\", index=False)\n",
    "        self.test_df.to_csv(self.data_dir + \"test_df.csv\", index=False)\n",
    "        self.val_df.to_csv(self.data_dir + \"val_df.csv\", index=False)\n",
    "\n",
    "\n",
    "    def train_dataloader(self):\n",
    "        return DataLoader(Data(self.train_df), batch_size=self.batch_size, shuffle=False, drop_last=True)\n",
    "    \n",
    "    def val_dataloader(self):\n",
    "        return DataLoader(Data(self.val_df), batch_size=self.batch_size, shuffle=False, drop_last=True)\n",
    "    \n",
    "    def test_dataloader(self):\n",
    "        return DataLoader(Data(self.test_df), batch_size=self.batch_size, shuffle=False, drop_last=True)\n"
   ]
  },
  {
   "cell_type": "code",
   "execution_count": 108,
   "metadata": {},
   "outputs": [
    {
     "data": {
      "text/plain": [
       "[tensor([[ 1.3266,  1.2339,  1.3572,  1.2994, -0.5137, -1.3928,  0.0190, -1.2007,\n",
       "           0.8725],\n",
       "         [ 1.2324,  1.1323,  1.1570,  1.0834, -0.3492, -1.3928,  0.0190, -0.1003,\n",
       "           1.4104],\n",
       "         [ 1.1408,  1.0461,  1.1434,  1.0640, -0.6682, -1.3928,  0.0190,  1.0002,\n",
       "           0.8725],\n",
       "         [ 1.0651,  0.9828,  1.1105,  1.0518, -0.6938, -1.3928,  0.0190,  1.2720,\n",
       "          -0.3361],\n",
       "         [ 1.1488,  1.1190,  1.2215,  1.2518, -0.2276, -1.2045,  0.7307,  1.0002,\n",
       "           0.8725],\n",
       "         [ 1.2125,  1.0844,  1.0449,  0.9282, -0.3297, -1.2045,  0.7307, -0.7110,\n",
       "          -1.3053],\n",
       "         [ 0.9730,  0.8756,  0.9823,  0.9373, -0.3538, -1.2045,  0.7307, -1.4725,\n",
       "          -0.3361],\n",
       "         [ 0.8107,  0.9025,  0.9119,  1.0328, -0.7345, -1.2045,  0.7307, -1.2007,\n",
       "           0.8725],\n",
       "         [ 1.1371,  1.0479,  1.2235,  1.1221, -0.8038, -1.2045,  0.7307, -0.1003,\n",
       "           1.4104],\n",
       "         [ 1.1408,  1.1522,  1.2579,  1.1362, -0.7743, -1.2045,  0.7307,  1.0002,\n",
       "           0.8725],\n",
       "         [ 1.1371,  1.0579,  1.1465,  1.0107, -0.8187, -1.2045,  0.7307, -0.7110,\n",
       "          -1.3053],\n",
       "         [ 1.2392,  1.2184,  1.3263,  1.2419, -0.0117, -1.2045,  0.7307, -1.4725,\n",
       "          -0.3361],\n",
       "         [ 1.2508,  1.1923,  1.3486,  1.2735, -0.5196, -1.2045,  0.7307, -1.2007,\n",
       "           0.8725],\n",
       "         [ 1.3357,  1.2497,  1.2798,  1.1564, -0.3945, -1.2045,  0.7307, -0.1003,\n",
       "           1.4104],\n",
       "         [ 1.2091,  1.1098,  1.2227,  1.1062, -0.5053, -1.2045,  0.7307,  1.0002,\n",
       "           0.8725],\n",
       "         [ 1.0423,  1.1006,  1.1652,  1.2256, -0.6672, -1.2045,  0.7307, -0.7110,\n",
       "          -1.3053]]),\n",
       " tensor([0., 0., 0., 1., 0., 1., 1., 1., 1., 0., 1., 1., 0., 0., 1., 0.])]"
      ]
     },
     "execution_count": 108,
     "metadata": {},
     "output_type": "execute_result"
    }
   ],
   "source": [
    "dm = StockDataModule(datadir, batch_size=BATCH_SIZE)\n",
    "dm.setup()\n",
    "test = next(iter(dm.train_dataloader()))\n",
    "test"
   ]
  },
  {
   "cell_type": "code",
   "execution_count": 109,
   "metadata": {},
   "outputs": [],
   "source": [
    "# TODO: try doing it with LSTM\n",
    "import torch.nn.init as init\n",
    "\n",
    "class RNN(nn.Module):\n",
    "    def __init__(self, input_size, hidden_size, num_layers, output_size):\n",
    "        super(RNN, self).__init__()\n",
    "        self.rnn = nn.RNN(input_size=input_size, hidden_size=hidden_size, num_layers=num_layers, batch_first=False)\n",
    "        self.l = nn.Linear(in_features=hidden_size, out_features=output_size)\n",
    "\n",
    "        self._initialize_weights()\n",
    "\n",
    "    def _initialize_weights(self):\n",
    "        # Initialize RNN weights using Xavier initialization\n",
    "        for name, param in self.rnn.named_parameters():\n",
    "            if 'weight_ih' in name:\n",
    "                init.xavier_uniform_(param)  # Input-hidden weights\n",
    "            elif 'weight_hh' in name:\n",
    "                init.orthogonal_(param)  # Hidden-hidden weights\n",
    "            elif 'bias' in name:\n",
    "                init.zeros_(param)  # Initialize biases to zeros\n",
    "\n",
    "        # Initialize the linear layer with Xavier initialization\n",
    "        init.xavier_uniform_(self.l.weight)\n",
    "        if self.l.bias is not None:\n",
    "            init.zeros_(self.l.bias)\n",
    "\n",
    "    def forward(self, x):\n",
    "        x = x.unsqueeze(0)\n",
    "        output, h_n = self.rnn(x)\n",
    "        x = self.l(h_n[-1]).squeeze()\n",
    "        # No need to pass the logits of the final linear layer through a sigmoid function because I am using\n",
    "        # the BCEWithLogitsLoss which applies it internally\n",
    "        return x"
   ]
  },
  {
   "cell_type": "code",
   "execution_count": 110,
   "metadata": {},
   "outputs": [],
   "source": [
    "class LSTM(nn.Module):\n",
    "    def __init__(self, input_size, hidden_size, num_layers, output_size):\n",
    "        super(LSTM, self).__init__()\n",
    "        self.lstm = nn.LSTM(input_size=input_size, hidden_size=hidden_size, num_layers=num_layers, batch_first=False)\n",
    "        self.fll = nn.Linear(in_features=hidden_size, out_features=1)\n",
    "\n",
    "        # self._initialize_weights()\n",
    "\n",
    "    def _initialize_weights(self):\n",
    "        # Initialize RNN weights using Xavier initialization\n",
    "        for name, param in self.lstm.named_parameters():\n",
    "            if 'weight_ih' in name:\n",
    "                init.xavier_uniform_(param)  # Input-hidden weights\n",
    "            elif 'weight_hh' in name:\n",
    "                init.orthogonal_(param)  # Hidden-hidden weights\n",
    "            elif 'bias' in name:\n",
    "                init.zeros_(param)  # Initialize biases to zeros\n",
    "\n",
    "        # Initialize the linear layer with Xavier initialization\n",
    "        init.xavier_uniform_(self.fll.weight)\n",
    "        if self.fll.bias is not None:\n",
    "            init.zeros_(self.fll.bias)\n",
    "\n",
    "    def forward(self, x):\n",
    "        x = x.unsqueeze(0)\n",
    "        x = self.lstm(x)\n",
    "        x = self.fll(x[1][-1])\n",
    "        return x.squeeze(-1)[-1]\n",
    "\n"
   ]
  },
  {
   "cell_type": "code",
   "execution_count": 111,
   "metadata": {},
   "outputs": [
    {
     "name": "stdout",
     "output_type": "stream",
     "text": [
      "tensor(0.5939, grad_fn=<BinaryCrossEntropyWithLogitsBackward0>)\n"
     ]
    }
   ],
   "source": [
    "c = nn.BCEWithLogitsLoss()\n",
    "\n",
    "tmodel = LSTM(input_size = train_ds.x.shape[1], hidden_size=10, num_layers=3, output_size=1)\n",
    "ydhat = tmodel(val_ds.x[0:8])\n",
    "print(c(ydhat, val_ds.y[0:8]))"
   ]
  },
  {
   "cell_type": "markdown",
   "metadata": {},
   "source": [
    "Try using the BCEWeightLoss as the criterion function"
   ]
  },
  {
   "cell_type": "code",
   "execution_count": 112,
   "metadata": {},
   "outputs": [
    {
     "name": "stdout",
     "output_type": "stream",
     "text": [
      "OUTSIDE OF THE MODEL:\n",
      "\n",
      "input shape:  torch.Size([1, 8, 9])\n",
      "y hat shape:  torch.Size([8])\n",
      "y shape:  torch.Size([100])\n",
      "yhat squeeze shape:  torch.Size([8])\n",
      "tensor(0.8506, grad_fn=<BinaryCrossEntropyWithLogitsBackward0>)\n",
      "real y =  tensor([[ 1.1105,  1.0078,  0.9702,  0.8457, -0.5058,  0.7156, -1.2137, -1.4725,\n",
      "         -0.3361],\n",
      "        [ 0.8305,  0.7105,  0.5238,  0.5152,  0.4951,  0.7156, -1.2137, -1.2007,\n",
      "          0.8725],\n",
      "        [ 0.6254,  0.5245,  0.4487,  0.4228,  0.2124,  0.7156, -1.2137, -0.1003,\n",
      "          1.4104],\n",
      "        [ 0.3898,  0.2831,  0.2822,  0.2524, -0.0525,  0.7156, -1.2137,  0.5105,\n",
      "         -1.3053],\n",
      "        [-0.0340,  0.0567, -0.0504,  0.1003,  0.4400,  0.7156, -1.2137, -0.7110,\n",
      "         -1.3053],\n",
      "        [ 0.0342,  0.0721,  0.0567,  0.0060, -0.1578,  0.7156, -1.2137, -1.4725,\n",
      "         -0.3361],\n",
      "        [ 0.0853, -0.0178, -0.2353, -0.1652,  1.4022,  0.7156, -1.2137, -1.2007,\n",
      "          0.8725],\n",
      "        [-0.0879, -0.0207, -0.2201,  0.0421,  2.8857,  0.7156, -1.2137, -0.1003,\n",
      "          1.4104]])\n",
      "ydhat =  tensor([0.2484, 0.3862, 0.3770, 0.4385, 0.3760, 0.1543, 0.3633, 0.6031],\n",
      "       grad_fn=<SqueezeBackward0>)\n"
     ]
    }
   ],
   "source": [
    "# train_ds\n",
    "\n",
    "tmodel = RNN(input_size=train_ds.x.shape[1], hidden_size=32, num_layers=3, output_size=1)\n",
    "ydhat = tmodel(val_ds.x[0:8])\n",
    "print(\"OUTSIDE OF THE MODEL:\\n\")\n",
    "print(\"input shape: \", val_ds.x[0:8].unsqueeze(0).shape)\n",
    "print(\"y hat shape: \", ydhat.shape)\n",
    "print(\"y shape: \", val_ds.y.shape)\n",
    "print(\"yhat squeeze shape: \", ydhat.squeeze().shape)\n",
    "print(c(ydhat, val_ds.y[0:8]))\n",
    "print('real y = ', val_ds.x[0:8])\n",
    "print('ydhat = ', ydhat)"
   ]
  },
  {
   "cell_type": "code",
   "execution_count": 113,
   "metadata": {},
   "outputs": [
    {
     "name": "stdout",
     "output_type": "stream",
     "text": [
      "         Date      Open      High       Low     Close    Volume  Dividends  \\\n",
      "99  -1.384399  1.110529  1.007808  0.970193  0.845663 -0.505821        0.0   \n",
      "100 -1.382013  0.830452  0.710458  0.523792  0.515178  0.495070        0.0   \n",
      "101 -1.379626  0.625415  0.524463  0.448741  0.422765  0.212367        0.0   \n",
      "102 -1.372466  0.389832  0.283122  0.282221  0.252388 -0.052462        0.0   \n",
      "103 -1.370080 -0.034036  0.056657 -0.050430  0.100266  0.440029        0.0   \n",
      "\n",
      "     Stock Splits      year     month       day  month_sin  month_cos  \\\n",
      "99            0.0 -1.253502 -0.444363 -1.231468   0.715569  -1.213709   \n",
      "100           0.0 -1.253502 -0.444363 -1.117155   0.715569  -1.213709   \n",
      "101           0.0 -1.253502 -0.444363 -1.002842   0.715569  -1.213709   \n",
      "102           0.0 -1.253502 -0.444363 -0.659903   0.715569  -1.213709   \n",
      "103           0.0 -1.253502 -0.444363 -0.545590   0.715569  -1.213709   \n",
      "\n",
      "      day_sin   day_cos  price_change  change  \n",
      "99  -1.472516 -0.336069     -1.738242       0  \n",
      "100 -1.200724  0.872496     -0.523092       0  \n",
      "101 -0.100259  1.410358     -0.968071       0  \n",
      "102  0.510453 -1.305263     -0.891818       0  \n",
      "103 -0.710971 -1.305263     -0.573329       0  \n"
     ]
    }
   ],
   "source": [
    "print(val_df.head())"
   ]
  },
  {
   "cell_type": "code",
   "execution_count": 114,
   "metadata": {},
   "outputs": [
    {
     "name": "stdout",
     "output_type": "stream",
     "text": [
      "9\n"
     ]
    }
   ],
   "source": [
    "criterion = nn.BCEWithLogitsLoss()\n",
    "criterion_name = 'BCEWithcLogitsLoss'\n",
    "\n",
    "architecture = 'LSTM'\n",
    "\n",
    "time_encoding = 'sin-cos'\n",
    "\n",
    "num_layers = 16\n",
    "hidden_size = 128\n",
    "input_size = train_ds.x.shape[1]\n",
    "output_size = 1 # Because we are trying to predict weather the Adjusted Closing value will be higher or lower than the current Adjusted Closing Value\n",
    "lr = 0.01\n",
    "optim_name = 'Adam'\n",
    "epochs = 25\n",
    "\n",
    "print(input_size)"
   ]
  },
  {
   "cell_type": "markdown",
   "metadata": {},
   "source": [
    "I will use the spearman corelation to measure the relationship between features"
   ]
  },
  {
   "cell_type": "code",
   "execution_count": 73,
   "metadata": {},
   "outputs": [],
   "source": [
    "class litModule(L.LightningModule):\n",
    "    def __init__(self, model, criterion, lr):\n",
    "        super().__init__()\n",
    "        self.model = model\n",
    "        self.loss = criterion\n",
    "        self.spear = stats.spearmanr\n",
    "        self.lr = lr\n",
    "\n",
    "    def training_step(self, batch, batch_idx):\n",
    "        x, y = batch\n",
    "        yhat = self.model(x)\n",
    "        loss = self.loss(yhat, y)\n",
    "        self.log('train_loss', loss, on_step = True, on_epoch = True, prog_bar = True)\n",
    "        return loss\n",
    "    \n",
    "    def validation_step(self, batch, batch_idx):\n",
    "        x, y = batch\n",
    "        # In theory, you don't need the with no torch grad because the lightning module does it for you\n",
    "        with torch.no_grad():\n",
    "            yhat = self.model(x)\n",
    "            loss = self.loss(yhat, y)\n",
    "            self.log('val_loss', loss)\n",
    "\n",
    "            spearman = self.spear(yhat, y).statistic\n",
    "            self.log('val_spearman', spearman, on_step = False, on_epoch = True, prog_bar = True)\n",
    "\n",
    "    def configure_optimizers(self):\n",
    "        return torch.optim.Adam(self.model.parameters(), lr=self.lr)\n"
   ]
  },
  {
   "cell_type": "code",
   "execution_count": 74,
   "metadata": {},
   "outputs": [],
   "source": [
    "# model = RNN(input_size=input_size, hidden_size=hidden_size, num_layers=num_layers, output_size=output_size)\n",
    "model = LSTM(input_size=input_size, hidden_size=hidden_size, num_layers=num_layers, output_size=output_size)\n",
    "lit_model = litModule(model, criterion=criterion, lr=lr)"
   ]
  },
  {
   "cell_type": "code",
   "execution_count": 75,
   "metadata": {},
   "outputs": [
    {
     "data": {
      "text/html": [
       "Tracking run with wandb version 0.18.7"
      ],
      "text/plain": [
       "<IPython.core.display.HTML object>"
      ]
     },
     "metadata": {},
     "output_type": "display_data"
    },
    {
     "data": {
      "text/html": [
       "Run data is saved locally in <code>../model/LSTM\\wandb\\run-20241130_182300-227cf5tp</code>"
      ],
      "text/plain": [
       "<IPython.core.display.HTML object>"
      ]
     },
     "metadata": {},
     "output_type": "display_data"
    },
    {
     "data": {
      "text/html": [
       "Syncing run <strong><a href='https://wandb.ai/lorant/airbnb_stock_prediction/runs/227cf5tp' target=\"_blank\">giddy-armadillo-40</a></strong> to <a href='https://wandb.ai/lorant/airbnb_stock_prediction' target=\"_blank\">Weights & Biases</a> (<a href='https://wandb.me/developer-guide' target=\"_blank\">docs</a>)<br/>"
      ],
      "text/plain": [
       "<IPython.core.display.HTML object>"
      ]
     },
     "metadata": {},
     "output_type": "display_data"
    },
    {
     "data": {
      "text/html": [
       " View project at <a href='https://wandb.ai/lorant/airbnb_stock_prediction' target=\"_blank\">https://wandb.ai/lorant/airbnb_stock_prediction</a>"
      ],
      "text/plain": [
       "<IPython.core.display.HTML object>"
      ]
     },
     "metadata": {},
     "output_type": "display_data"
    },
    {
     "data": {
      "text/html": [
       " View run at <a href='https://wandb.ai/lorant/airbnb_stock_prediction/runs/227cf5tp' target=\"_blank\">https://wandb.ai/lorant/airbnb_stock_prediction/runs/227cf5tp</a>"
      ],
      "text/plain": [
       "<IPython.core.display.HTML object>"
      ]
     },
     "metadata": {},
     "output_type": "display_data"
    },
    {
     "name": "stderr",
     "output_type": "stream",
     "text": [
      "c:\\Users\\jtlor\\anaconda3\\envs\\basic_LR\\Lib\\site-packages\\lightning\\pytorch\\loggers\\wandb.py:396: There is a wandb run already in progress and newly created instances of `WandbLogger` will reuse this run. If this is not desired, call `wandb.finish()` before instantiating `WandbLogger`.\n"
     ]
    }
   ],
   "source": [
    "# use weights and biases logger\n",
    "import sys\n",
    "import os\n",
    "\n",
    "# Add the 'project' directory to the Python path\n",
    "sys.path.append(os.path.abspath(\"../\"))\n",
    "from scripts.storemodels import getHighestModelNumber\n",
    "\n",
    "wandb.init(dir= '../model/' + architecture)\n",
    "\n",
    "wandb_logger = WandbLogger(project='airbnb_stock_price_prediction', name = architecture)\n",
    "wandb_logger.experiment.config.update({\n",
    "    \"lr\": lr,\n",
    "    \"batch_size\": BATCH_SIZE,\n",
    "    \"epochs\": epochs,\n",
    "    \"arch\": architecture,\n",
    "    \"time_enc\": time_encoding,\n",
    "    \"loss\": criterion_name,\n",
    "    \"number_of_layers\": num_layers,\n",
    "    \"hidden_size\": hidden_size,\n",
    "    \"opt\": optim_name\n",
    "})"
   ]
  },
  {
   "cell_type": "markdown",
   "metadata": {},
   "source": [
    "Set up the Checkpoint Callback to be able to log the model"
   ]
  },
  {
   "cell_type": "markdown",
   "metadata": {},
   "source": [
    "Train Model"
   ]
  },
  {
   "cell_type": "code",
   "execution_count": 76,
   "metadata": {},
   "outputs": [
    {
     "name": "stderr",
     "output_type": "stream",
     "text": [
      "GPU available: False, used: False\n",
      "TPU available: False, using: 0 TPU cores\n",
      "HPU available: False, using: 0 HPUs\n"
     ]
    },
    {
     "name": "stderr",
     "output_type": "stream",
     "text": [
      "c:\\Users\\jtlor\\anaconda3\\envs\\basic_LR\\Lib\\site-packages\\lightning\\pytorch\\trainer\\connectors\\data_connector.py:424: The 'val_dataloader' does not have many workers which may be a bottleneck. Consider increasing the value of the `num_workers` argument` to `num_workers=11` in the `DataLoader` to improve performance.\n"
     ]
    },
    {
     "name": "stdout",
     "output_type": "stream",
     "text": [
      "Validation DataLoader 0: 100%|██████████| 6/6 [00:00<00:00, 106.90it/s]"
     ]
    },
    {
     "name": "stderr",
     "output_type": "stream",
     "text": [
      "\n",
      "  | Name  | Type              | Params | Mode \n",
      "----------------------------------------------------\n",
      "0 | model | LSTM              | 2.1 M  | train\n",
      "1 | loss  | BCEWithLogitsLoss | 0      | train\n",
      "----------------------------------------------------\n",
      "2.1 M     Trainable params\n",
      "0         Non-trainable params\n",
      "2.1 M     Total params\n",
      "8.211     Total estimated model params size (MB)\n",
      "4         Modules in train mode\n",
      "0         Modules in eval mode\n"
     ]
    },
    {
     "name": "stdout",
     "output_type": "stream",
     "text": [
      "\n",
      "────────────────────────────────────────────────────────────────────────────────────────────────────────────────────────\n",
      "     Validate metric           DataLoader 0\n",
      "────────────────────────────────────────────────────────────────────────────────────────────────────────────────────────\n",
      "        val_loss            0.6932599544525146\n",
      "      val_spearman         -0.015005707740783691\n",
      "────────────────────────────────────────────────────────────────────────────────────────────────────────────────────────\n",
      "Sanity Checking:   0%|          | 0/2 [00:00<?, ?it/s]"
     ]
    },
    {
     "name": "stderr",
     "output_type": "stream",
     "text": [
      "c:\\Users\\jtlor\\anaconda3\\envs\\basic_LR\\Lib\\site-packages\\lightning\\pytorch\\trainer\\connectors\\data_connector.py:424: The 'val_dataloader' does not have many workers which may be a bottleneck. Consider increasing the value of the `num_workers` argument` to `num_workers=11` in the `DataLoader` to improve performance.\n"
     ]
    },
    {
     "name": "stdout",
     "output_type": "stream",
     "text": [
      "                                                                           "
     ]
    },
    {
     "name": "stderr",
     "output_type": "stream",
     "text": [
      "c:\\Users\\jtlor\\anaconda3\\envs\\basic_LR\\Lib\\site-packages\\lightning\\pytorch\\trainer\\connectors\\data_connector.py:424: The 'train_dataloader' does not have many workers which may be a bottleneck. Consider increasing the value of the `num_workers` argument` to `num_workers=11` in the `DataLoader` to improve performance.\n"
     ]
    },
    {
     "name": "stdout",
     "output_type": "stream",
     "text": [
      "Epoch 0: 100%|██████████| 50/50 [00:01<00:00, 29.40it/s, v_num=f5tp, train_loss_step=0.692, val_spearman=nan.0, train_loss_epoch=0.696]"
     ]
    },
    {
     "name": "stderr",
     "output_type": "stream",
     "text": [
      "C:\\Users\\jtlor\\AppData\\Local\\Temp\\ipykernel_17312\\3281769343.py:24: ConstantInputWarning: An input array is constant; the correlation coefficient is not defined.\n",
      "  spearman = self.spear(yhat, y).statistic\n"
     ]
    },
    {
     "name": "stdout",
     "output_type": "stream",
     "text": [
      "Epoch 24: 100%|██████████| 50/50 [00:01<00:00, 26.57it/s, v_num=f5tp, train_loss_step=0.692, val_spearman=nan.0, train_loss_epoch=0.693]"
     ]
    },
    {
     "name": "stderr",
     "output_type": "stream",
     "text": [
      "`Trainer.fit` stopped: `max_epochs=25` reached.\n"
     ]
    },
    {
     "name": "stdout",
     "output_type": "stream",
     "text": [
      "Epoch 24: 100%|██████████| 50/50 [00:02<00:00, 23.07it/s, v_num=f5tp, train_loss_step=0.692, val_spearman=nan.0, train_loss_epoch=0.693]\n"
     ]
    },
    {
     "data": {
      "text/html": [
       "\n",
       "    <style>\n",
       "        .wandb-row {\n",
       "            display: flex;\n",
       "            flex-direction: row;\n",
       "            flex-wrap: wrap;\n",
       "            justify-content: flex-start;\n",
       "            width: 100%;\n",
       "        }\n",
       "        .wandb-col {\n",
       "            display: flex;\n",
       "            flex-direction: column;\n",
       "            flex-basis: 100%;\n",
       "            flex: 1;\n",
       "            padding: 10px;\n",
       "        }\n",
       "    </style>\n",
       "<div class=\"wandb-row\"><div class=\"wandb-col\"><h3>Run history:</h3><br/><table class=\"wandb\"><tr><td>epoch</td><td>▁▁▁▂▂▂▂▂▂▂▃▃▃▃▃▄▄▄▄▄▄▅▅▅▅▅▅▆▆▆▆▆▇▇▇▇████</td></tr><tr><td>train_loss_epoch</td><td>█▂▂▁▁▁▁▁▁▁▁▁▂▁▁▁▁▁▁▁▁▁▁▁▁</td></tr><tr><td>train_loss_step</td><td>▁█▂▂▂▃▃▄▄▅▅▅▆▇▆▅▅▅▅▅▆▅▅▅▅</td></tr><tr><td>trainer/global_step</td><td>▁▁▁▂▂▂▂▂▂▃▃▃▃▃▄▄▄▄▅▅▅▅▆▆▆▆▆▆▆▇▇▇▇▇▇▇████</td></tr><tr><td>val_loss</td><td>█▁▁▁▁▁▁▁▁▁▁▁▁▁▁▁▁▁▁▁▁▁▁▁▁▁</td></tr><tr><td>val_spearman</td><td>▁                         </td></tr></table><br/></div><div class=\"wandb-col\"><h3>Run summary:</h3><br/><table class=\"wandb\"><tr><td>epoch</td><td>24</td></tr><tr><td>train_loss_epoch</td><td>0.69335</td></tr><tr><td>train_loss_step</td><td>0.69248</td></tr><tr><td>trainer/global_step</td><td>1249</td></tr><tr><td>val_loss</td><td>0.69315</td></tr><tr><td>val_spearman</td><td>nan</td></tr></table><br/></div></div>"
      ],
      "text/plain": [
       "<IPython.core.display.HTML object>"
      ]
     },
     "metadata": {},
     "output_type": "display_data"
    },
    {
     "data": {
      "text/html": [
       " View run <strong style=\"color:#cdcd00\">giddy-armadillo-40</strong> at: <a href='https://wandb.ai/lorant/airbnb_stock_prediction/runs/227cf5tp' target=\"_blank\">https://wandb.ai/lorant/airbnb_stock_prediction/runs/227cf5tp</a><br/> View project at: <a href='https://wandb.ai/lorant/airbnb_stock_prediction' target=\"_blank\">https://wandb.ai/lorant/airbnb_stock_prediction</a><br/>Synced 5 W&B file(s), 0 media file(s), 0 artifact file(s) and 0 other file(s)"
      ],
      "text/plain": [
       "<IPython.core.display.HTML object>"
      ]
     },
     "metadata": {},
     "output_type": "display_data"
    },
    {
     "data": {
      "text/html": [
       "Find logs at: <code>../model/LSTM\\wandb\\run-20241130_182300-227cf5tp\\logs</code>"
      ],
      "text/plain": [
       "<IPython.core.display.HTML object>"
      ]
     },
     "metadata": {},
     "output_type": "display_data"
    }
   ],
   "source": [
    "trainer = L.Trainer(max_epochs=epochs, logger = wandb_logger)\n",
    "trainer.validate(model = lit_model, datamodule = dm)\n",
    "trainer.fit(model = lit_model, datamodule = dm)\n",
    "\n",
    "model_path = '../model/' + architecture + '/artifacts/' + wandb.run.id + '-' + wandb.run.name+'.pth'\n",
    "torch.save(model, model_path)\n",
    "\n",
    "artifact = wandb.Artifact(wandb.run.id + '-' + wandb.run.name, type='model')\n",
    "artifact.add_file(model_path)\n",
    "\n",
    "wandb.finish()"
   ]
  },
  {
   "cell_type": "code",
   "execution_count": 115,
   "metadata": {},
   "outputs": [
    {
     "name": "stdout",
     "output_type": "stream",
     "text": [
      "<class '__main__.LSTM'>\n"
     ]
    },
    {
     "name": "stderr",
     "output_type": "stream",
     "text": [
      "C:\\Users\\jtlor\\AppData\\Local\\Temp\\ipykernel_17312\\3588821683.py:2: FutureWarning: You are using `torch.load` with `weights_only=False` (the current default value), which uses the default pickle module implicitly. It is possible to construct malicious pickle data which will execute arbitrary code during unpickling (See https://github.com/pytorch/pytorch/blob/main/SECURITY.md#untrusted-models for more details). In a future release, the default value for `weights_only` will be flipped to `True`. This limits the functions that could be executed during unpickling. Arbitrary objects will no longer be allowed to be loaded via this mode unless they are explicitly allowlisted by the user via `torch.serialization.add_safe_globals`. We recommend you start setting `weights_only=True` for any use case where you don't have full control of the loaded file. Please open an issue on GitHub for any issues related to this experimental feature.\n",
      "  tmodel = torch.load(path)\n"
     ]
    }
   ],
   "source": [
    "path='../model/LSTM/artifacts/0h88ygww-graceful-haze-33.pth'\n",
    "tmodel = torch.load(path)\n",
    "print(type(tmodel))"
   ]
  },
  {
   "cell_type": "code",
   "execution_count": 122,
   "metadata": {},
   "outputs": [
    {
     "name": "stdout",
     "output_type": "stream",
     "text": [
      "y =  [0, 0, 0, 1, 1, 1, 1, 1, 0, 0, 0, 1, 0, 0, 0, 1]\n",
      "yhat =  [1, 0, 0, 0, 1, 1, 1, 1, 0, 0, 0, 0, 0, 0, 0, 0]\n",
      "[4, 1, 3, 8]\n",
      "y =  [0, 1, 0, 0, 1, 1, 1, 0, 1, 0, 1, 1, 0, 1, 1, 0]\n",
      "yhat =  [1, 0, 1, 0, 0, 1, 1, 1, 0, 0, 0, 1, 1, 0, 1, 1]\n",
      "[4, 5, 5, 2]\n",
      "y =  [0, 0, 0, 1, 1, 0, 1, 0, 1, 1, 0, 0, 0, 0, 1, 0]\n",
      "yhat =  [0, 0, 0, 0, 0, 1, 0, 0, 0, 0, 0, 0, 0, 0, 0, 0]\n",
      "[0, 1, 6, 9]\n",
      "y =  [0, 1, 0, 1, 0, 0, 0, 0, 0, 1, 1, 1, 1, 1, 1, 0]\n",
      "yhat =  [0, 0, 1, 0, 1, 0, 0, 0, 0, 0, 0, 0, 0, 1, 1, 0]\n",
      "[2, 2, 6, 6]\n",
      "y =  [1, 0, 1, 1, 0, 0, 0, 0, 1, 1, 1, 1, 0, 1, 0, 1]\n",
      "yhat =  [0, 0, 0, 0, 0, 0, 0, 1, 0, 1, 0, 0, 0, 0, 0, 0]\n",
      "[1, 1, 8, 6]\n",
      "y =  [0, 0, 1, 0, 0, 1, 0, 0, 0, 1, 1, 1, 1, 1, 0, 0]\n",
      "yhat =  [0, 0, 0, 0, 0, 0, 0, 0, 0, 0, 0, 0, 0, 0, 1, 0]\n",
      "[0, 1, 7, 8]\n",
      "{'good_invest': 11, 'bad_invest': 11, 'bad_sell': 35, 'good_sell': 39}\n"
     ]
    }
   ],
   "source": [
    "test_loader = dm.test_dataloader()\n",
    "\n",
    "# print(next(iter(test_loader))[1])\n",
    "invest_prob = 0.8\n",
    "def investment_thresholds(prob):\n",
    "    if prob > invest_prob:\n",
    "        return 1\n",
    "    return 0\n",
    "\n",
    "def test_investments(y, yhat):\n",
    "    # True pos., False pos., False neg., True neg\n",
    "    results = [0,0,0,0]\n",
    "    for i in range(len(yhat)):\n",
    "        # True positive\n",
    "        if y[i] == 1 and yhat[i]  == 1:\n",
    "            results[0] = results[0] + 1\n",
    "        # False positive\n",
    "        elif y[i] == 0 and yhat[i] == 1:\n",
    "            results[1] = results[1] + 1\n",
    "        # False negative\n",
    "        elif y[i] == 1 and yhat[i] == 0:\n",
    "            results[2] = results[2] + 1\n",
    "        # True negative\n",
    "        else:\n",
    "            results[3] = results[3] + 1\n",
    "\n",
    "    return results\n",
    "\n",
    "# what I want to measure is \n",
    "# how many times the algorithm invests when it should\n",
    "# how many times it invests when it should'test\n",
    "# how many times it doesn't invest when it should\n",
    "\n",
    "with torch.no_grad():\n",
    "    totals = {\n",
    "        \"good_invest\" : 0, # True positive\n",
    "        \"bad_invest\" : 0,  # False positive\n",
    "        \"bad_sell\" : 0,    # False negative\n",
    "        \"good_sell\" : 0    # True negative\n",
    "        }\n",
    "    \n",
    "    all_y = []\n",
    "    all_yhat = []\n",
    "\n",
    "    for batch in test_loader:\n",
    "        y = batch[1]\n",
    "        print('y = ', y.int().tolist())\n",
    "        all_y.extend(y.int().tolist())\n",
    "\n",
    "\n",
    "        x = batch[0]\n",
    "        yhat =  [investment_thresholds(prediction) for prediction in torch.sigmoid(tmodel(x))]\n",
    "        print('yhat = ', yhat)\n",
    "        all_yhat.extend(yhat)\n",
    "\n",
    "        results = test_investments(y.tolist(), yhat)\n",
    "        print(results)\n",
    "        totals['good_invest'] = totals['good_invest'] + results[0]\n",
    "        totals['bad_invest'] = totals['bad_invest'] + results[1]\n",
    "        totals['bad_sell'] = totals['bad_sell'] + results[2]\n",
    "        totals['good_sell'] = totals['good_sell'] + results[3]\n",
    "    \n",
    "    print(totals)"
   ]
  },
  {
   "cell_type": "code",
   "execution_count": 123,
   "metadata": {},
   "outputs": [
    {
     "data": {
      "text/plain": [
       "96"
      ]
     },
     "execution_count": 123,
     "metadata": {},
     "output_type": "execute_result"
    }
   ],
   "source": [
    "len(all_y)"
   ]
  },
  {
   "cell_type": "code",
   "execution_count": 124,
   "metadata": {},
   "outputs": [
    {
     "data": {
      "text/plain": [
       "96"
      ]
     },
     "execution_count": 124,
     "metadata": {},
     "output_type": "execute_result"
    }
   ],
   "source": [
    "len(all_yhat)"
   ]
  },
  {
   "cell_type": "code",
   "execution_count": null,
   "metadata": {},
   "outputs": [
    {
     "data": {
      "image/png": "[encoded data removed]",
      "text/plain": [
       "<Figure size 640x480 with 2 Axes>"
      ]
     },
     "metadata": {},
     "output_type": "display_data"
    }
   ],
   "source": [
    "from sklearn.metrics import confusion_matrix, ConfusionMatrixDisplay\n",
    "cm = confusion_matrix(all_y, all_yhat)\n",
    "\n",
    "# Display as a heatmap\n",
    "disp = ConfusionMatrixDisplay(confusion_matrix=cm, display_labels=[\"Down\", \"Up\"])\n",
    "disp.plot(cmap=\"Blues\")\n",
    "plt.title(\"Confusion Matrix\")\n",
    "plt.show()"
   ]
  },
  {
   "cell_type": "code",
   "execution_count": null,
   "metadata": {},
   "outputs": [],
   "source": []
  }
 ],
 "metadata": {
  "kernelspec": {
   "display_name": "basic_LR",
   "language": "python",
   "name": "python3"
  },
  "language_info": {
   "codemirror_mode": {
    "name": "ipython",
    "version": 3
   },
   "file_extension": ".py",
   "mimetype": "text/x-python",
   "name": "python",
   "nbconvert_exporter": "python",
   "pygments_lexer": "ipython3",
   "version": "3.11.10"
  }
 },
 "nbformat": 4,
 "nbformat_minor": 2
}
