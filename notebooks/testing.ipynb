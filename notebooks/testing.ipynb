{
 "cells": [
  {
   "cell_type": "code",
   "execution_count": 1,
   "metadata": {},
   "outputs": [],
   "source": [
    "import os\n",
    "import re\n",
    "\n",
    "def getHighestModelNumber(path):\n",
    "    \n",
    "    files = os.listdir(path)\n",
    "    print('files in direcotry: ', files)\n",
    "    pattern = r\"(\\d+)*\"\n",
    "\n",
    "    if len(files) == 0:\n",
    "        return str(1)\n",
    "    \n",
    "    max_num = 1\n",
    "    for file in files:\n",
    "        match = re.match(pattern, file)\n",
    "\n",
    "        if match:\n",
    "            if int(match.group(1)) > max_num:\n",
    "                max_num = int(match.group(1))\n",
    "\n",
    "    return str(max_num)"
   ]
  },
  {
   "cell_type": "code",
   "execution_count": 4,
   "metadata": {},
   "outputs": [
    {
     "name": "stdout",
     "output_type": "stream",
     "text": [
      "io05p9cj\n"
     ]
    }
   ],
   "source": [
    "pattern = r\".*-.*\"\n",
    "s = \"run-20241126_161623-io05p9cj\"\n",
    "\n",
    "print(s.split(sep='-')[-1])\n"
   ]
  },
  {
   "cell_type": "code",
   "execution_count": null,
   "metadata": {},
   "outputs": [],
   "source": []
  }
 ],
 "metadata": {
  "kernelspec": {
   "display_name": "basic_LR",
   "language": "python",
   "name": "python3"
  },
  "language_info": {
   "codemirror_mode": {
    "name": "ipython",
    "version": 3
   },
   "file_extension": ".py",
   "mimetype": "text/x-python",
   "name": "python",
   "nbconvert_exporter": "python",
   "pygments_lexer": "ipython3",
   "version": "3.11.10"
  }
 },
 "nbformat": 4,
 "nbformat_minor": 2
}
