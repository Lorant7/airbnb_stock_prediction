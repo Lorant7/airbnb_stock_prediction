{
 "cells": [
  {
   "cell_type": "code",
   "execution_count": 3,
   "metadata": {},
   "outputs": [],
   "source": [
    "import urllib3\n",
    "from bs4 import BeautifulSoup"
   ]
  },
  {
   "cell_type": "code",
   "execution_count": 4,
   "metadata": {},
   "outputs": [
    {
     "name": "stdout",
     "output_type": "stream",
     "text": [
      "[1]*******\n",
      "<table>\n",
      " <tbody>\n",
      "  <tr>\n",
      "   <td>\n",
      "    <img alt=\"Yahoo Logo\" src=\"https://s.yimg.com/rz/p/yahoo_frontpage_en-US_s_f_p_205x58_frontpage.png\"/>\n",
      "    <h1 style=\"margin-top:20px;\">\n",
      "     Will be right back...\n",
      "    </h1>\n",
      "    <p id=\"message-1\">\n",
      "     Thank you for your patience.\n",
      "    </p>\n",
      "    <p id=\"message-2\">\n",
      "     Our engineers are working quickly to resolve the issue.\n",
      "    </p>\n",
      "   </td>\n",
      "  </tr>\n",
      " </tbody>\n",
      "</table>\n",
      "\n"
     ]
    },
    {
     "data": {
      "text/plain": [
       "[None]"
      ]
     },
     "execution_count": 4,
     "metadata": {},
     "output_type": "execute_result"
    }
   ],
   "source": [
    "# instance to extract from website\n",
    "http = urllib3.PoolManager()\n",
    "\n",
    "# variable containing the yahoo finance URL\n",
    "URL = 'https://finance.yahoo.com/quote/ABNB/history/?period1=1574821902&period2=1732659714&guccounter=1&guce_referrer=aHR0cHM6Ly9sb2dpbi55YWhvby5jb20v&guce_referrer_sig=AQAAANhPaYZo63SBB3jUsG3uIpsdRcUQAmevX7rUZypCGpPKWC8dak7PusoWRdHm3UwdaXOl2GsufT8FDtiLA82kle2cjtoAagSbYElWxQePBRHRFKrfMPdEmvmKkew9yn8QS6kfrTP2lSVsqsxa2l_Fvrwn7UVuEyU6Dv7pyxT2_cEH'\n",
    "\n",
    "# Extract data from website\n",
    "r = http.request('GET', URL)\n",
    "\n",
    "# Create a map of the site into beautiful soup framework\n",
    "soup = BeautifulSoup(r.data, 'html.parser')\n",
    "\n",
    "print(\"[1]*******\")\n",
    "[print(item.prettify()) for item in soup.find_all('table')]"
   ]
  },
  {
   "cell_type": "code",
   "execution_count": null,
   "metadata": {},
   "outputs": [],
   "source": []
  }
 ],
 "metadata": {
  "kernelspec": {
   "display_name": "basic_LR",
   "language": "python",
   "name": "python3"
  },
  "language_info": {
   "codemirror_mode": {
    "name": "ipython",
    "version": 3
   },
   "file_extension": ".py",
   "mimetype": "text/x-python",
   "name": "python",
   "nbconvert_exporter": "python",
   "pygments_lexer": "ipython3",
   "version": "3.11.10"
  }
 },
 "nbformat": 4,
 "nbformat_minor": 2
}
